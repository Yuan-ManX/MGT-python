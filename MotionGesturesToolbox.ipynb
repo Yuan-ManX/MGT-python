{
 "cells": [
  {
   "cell_type": "markdown",
   "metadata": {},
   "outputs": [],
   "source": [
    "# Welcome to the Motion Gestures Toolbox (Python) - Tutorial/Documentation"
   ]
  },
  {
   "cell_type": "markdown",
   "metadata": {},
   "outputs": [],
   "source": [
    "### Video visualisation\n",
    "Videos can be watched as they are, but they can also be used to develop new visualisations to be used for analysis. The aim of creating such alternate displays from video recordings is to uncover features, structures and similarities within the material itself, and in relation to, for example, score material. Three useful visualisation techniques here are motion images, motion history images and motiongrams.\n",
    "\n",
    "MGT can generate both dynamic and static visualizations, as well as some quantitative data:\n",
    "\n",
    "- dynamic visualisations (video files)\n",
    "    - motion video\n",
    "    - motion history video\n",
    "- static visualisations (images)\n",
    "    - motion average image\n",
    "    - motiongrams\n",
    "    - videograms\n",
    "- motion data (csv files)\n",
    "    - quantity of motion\n",
    "    - centroid of motion\n",
    "    - area of motion\n",
    "\n",
    "In the following we will try this ourselves, and look at the different types."
   ]
  },
  {
   "cell_type": "markdown",
   "metadata": {},
   "outputs": [],
   "source": [
    "#### Starting off we will do a few imports, and the tutorial depends on these modules being installed/downloaded."
   ]
  },
  {
   "cell_type": "code",
   "metadata": {},
   "outputs": [],
   "source": [
    "import mgmodule\n",
    "import cv2\n",
    "from matplotlib import pyplot as plt"
   ]
  },
  {
   "cell_type": "markdown",
   "metadata": {},
   "outputs": [],
   "source": [
    "Now we create our mg (motion gestures) object, which takes the video and gives the video attributes and functions that can be used upon it to extract useful/fun videos, images and information. To save time, starttime and endtime of video relevant to analysis can be chosen as so: this will trim the piece of video of interest."
   ]
  },
  {
   "cell_type": "code",
   "metadata": {},
   "outputs": [],
   "source": [
    "mg = mgmodule.MgObject('dance.avi', starttime = 5, endtime = 15)"
   ]
  },
  {
   "cell_type": "markdown",
   "metadata": {},
   "outputs": [],
   "source": [
    "### Motion video analysis\n",
    "\n",
    "By calling the motionvideo function, we will generate a number of files from the input video, in the same location as the source file.\n",
    "\n",
    "These include:\n",
    "- dance_motion.avi: the motion video that is used as the source for the rest of the analysis\n",
    "- dance_mgx.bmp: a horizontal motiongram\n",
    "- dance_mgy.bmp: a vertical motiongram\n",
    "- dance_motion_com_qom.eps: an image file with plots of centroid and quantity of motion\n",
    "\n",
    "We will examine each of these in a little more detail."
   ]
  },
  {
   "cell_type": "code",
   "metadata": {},
   "outputs": [],
   "source": [
    "mg.motionvideo()"
   ]
  },
  {
   "cell_type": "code",
   "metadata": {},
   "outputs": [],
   "source": [
    "ls"
   ]
  },
  {
   "cell_type": "code",
   "metadata": {},
   "outputs": [],
   "source": [
    "from IPython.display import Image\n",
    "x = Image(\"dance_trim_mgx.png\")\n",
    "x\n"
   ]
  },
  {
   "cell_type": "code",
   "metadata": {},
   "outputs": [],
   "source": [
    "y = Image(\"dance_trim_mgy.png\")\n",
    "y"
   ]
  },
  {
   "cell_type": "code",
   "metadata": {},
   "outputs": [],
   "source": [
    "com_qom = Image(\"dance_trim_motion_com_qom.png\")\n",
    "com_qom"
   ]
  },
  {
   "cell_type": "code",
   "metadata": {},
   "outputs": [],
   "source": [
    "#Press q to quit the video\n",
    "mg.show('dance_trim_motion.avi')"
   ]
  },
  {
   "cell_type": "markdown",
   "metadata": {},
   "outputs": [],
   "source": [
    "### History tracking\n",
    "Motion history tracking can be interesting, to study movement as a whole process. This is implemented as a history delay, storing the motion history of a given number of past frames into the current frame. history_length = integer of your choice, which will be the number of frames saved to the history tail.\n",
    "\n",
    "When calling the function history(filename, history_length=20), a tail of 20 frames is saved to the current frame."
   ]
  },
  {
   "cell_type": "markdown",
   "metadata": {},
   "outputs": [],
   "source": [
    "### History tracking\n",
    "Motion history tracking can be interesting, to study movement as a whole process. This is implemented as a history delay, storing the motion history of a given number of past frames into the current frame. history_length = integer of your choice, which will be the number of frames saved to the history tail.\n",
    "\n",
    "When calling the function history(filename, history_length=20), a tail of 20 frames is saved to the current frame."
   ]
  },
  {
   "cell_type": "code",
   "metadata": {},
   "outputs": [],
   "source": []
  },
  {
   "cell_type": "code",
   "metadata": {},
   "outputs": [],
   "source": [
    "#mg = mgmodule.MgObject('dance.avi')\n",
    "mg = mgmodule.MgObject('dance.avi', starttime = 5, endtime = 15, skip=5)\n",
    "mg.history('dance_trim_skip.avi', history_length = 20)\n",
    "mg.show('dance_trim_skip_history.avi')"
   ]
  },
  {
   "cell_type": "markdown",
   "metadata": {},
   "outputs": [],
   "source": [
    "### The new version starts here"
   ]
  },
  {
   "cell_type": "markdown",
   "metadata": {},
   "outputs": [],
   "source": [
    "Just import mgmodule..."
   ]
  },
  {
   "cell_type": "code",
   "execution_count": 1,
   "metadata": {},
   "outputs": [],
   "source": [
    "import mgmodule"
   ]
  },
  {
   "cell_type": "markdown",
   "metadata": {},
   "outputs": [],
   "source": [
    "Make a video object:"
   ]
  },
  {
   "cell_type": "code",
   "execution_count": 2,
   "metadata": {},
   "outputs": [
    {
     "name": "stdout",
     "output_type": "stream",
     "text": "Moviepy - Running:\n>>> \"+ \" \".join(cmd)\nMoviepy - Command successful\nAdjusting contrast and brightness: |████████████████████████████████████████| 100.0% Complete\nFinding area of motion: |████████████████████████████████████████| 100.0% Complete\nRendering cropped video: |████████████████████████████████████████| 100.0% Complete\n"
    }
   ],
   "source": [
    "yo = mgmodule.MgObject('dance.avi', starttime=5, endtime= 10, skip=2, contrast=50, brightness=50, crop='auto')"
   ]
  },
  {
   "cell_type": "markdown",
   "execution_count": null,
   "metadata": {},
   "outputs": [],
   "source": [
    "Show it:"
   ]
  },
  {
   "cell_type": "code",
   "execution_count": 4,
   "metadata": {},
   "outputs": [],
   "source": [
    "yo.show()"
   ]
  },
  {
   "cell_type": "markdown",
   "metadata": {},
   "outputs": [],
   "source": [
    "Render the motion video:"
   ]
  },
  {
   "cell_type": "code",
   "execution_count": 5,
   "metadata": {},
   "outputs": [
    {
     "name": "stdout",
     "output_type": "stream",
     "text": "Rendering motion video: |████████████████████████████████████████| 100.0% Complete\n"
    },
    {
     "data": {
      "image/png": "[encoded data removed]",
      "image/svg+xml": "<?xml version=\"1.0\" encoding=\"utf-8\" standalone=\"no\"?>\r\n<!DOCTYPE svg PUBLIC \"-//W3C//DTD SVG 1.1//EN\"\r\n  \"http://www.w3.org/Graphics/SVG/1.1/DTD/svg11.dtd\">\r\n<!-- Created with matplotlib (https://matplotlib.org/) -->\r\n<svg height=\"386.034375pt\" version=\"1.1\" viewBox=\"0 0 724.239282 386.034375\" width=\"724.239282pt\" xmlns=\"http://www.w3.org/2000/svg\" xmlns:xlink=\"http://www.w3.org/1999/xlink\">\r\n <defs>\r\n  <style type=\"text/css\">\r\n*{stroke-linecap:butt;stroke-linejoin:round;}\r\n  </style>\r\n </defs>\r\n <g id=\"figure_1\">\r\n  <g id=\"patch_1\">\r\n   <path d=\"M 0 386.034375 \r\nL 724.239282 386.034375 \r\nL 724.239282 0 \r\nL 0 0 \r\nz\r\n\" style=\"fill:none;\"/>\r\n  </g>\r\n  <g id=\"axes_1\">\r\n   <g id=\"patch_2\">\r\n    <path d=\"M 43.78125 348.478125 \r\nL 348.144886 348.478125 \r\nL 348.144886 22.318125 \r\nL 43.78125 22.318125 \r\nz\r\n\" style=\"fill:#ffffff;\"/>\r\n   </g>\r\n   <g id=\"PathCollection_1\">\r\n    <defs>\r\n     <path d=\"M 0 0.707107 \r\nC 0.187527 0.707107 0.367398 0.632602 0.5 0.5 \r\nC 0.632602 0.367398 0.707107 0.187527 0.707107 0 \r\nC 0.707107 -0.187527 0.632602 -0.367398 0.5 -0.5 \r\nC 0.367398 -0.632602 0.187527 -0.707107 0 -0.707107 \r\nC -0.187527 -0.707107 -0.367398 -0.632602 -0.5 -0.5 \r\nC -0.632602 -0.367398 -0.707107 -0.187527 -0.707107 0 \r\nC -0.707107 0.187527 -0.632602 0.367398 -0.5 0.5 \r\nC -0.367398 0.632602 -0.187527 0.707107 0 0.707107 \r\nz\r\n\" id=\"mdca424365b\" style=\"stroke:#1f77b4;\"/>\r\n    </defs>\r\n    <g clip-path=\"url(#p369ba9e88b)\">\r\n     <use style=\"fill:#1f77b4;stroke:#1f77b4;\" x=\"207.616011\" xlink:href=\"#mdca424365b\" y=\"155.698529\"/>\r\n     <use style=\"fill:#1f77b4;stroke:#1f77b4;\" x=\"200.952719\" xlink:href=\"#mdca424365b\" y=\"150.9164\"/>\r\n     <use style=\"fill:#1f77b4;stroke:#1f77b4;\" x=\"196.17156\" xlink:href=\"#mdca424365b\" y=\"145.616262\"/>\r\n     <use style=\"fill:#1f77b4;stroke:#1f77b4;\" x=\"193.653532\" xlink:href=\"#mdca424365b\" y=\"141.098771\"/>\r\n     <use style=\"fill:#1f77b4;stroke:#1f77b4;\" x=\"197.656624\" xlink:href=\"#mdca424365b\" y=\"136.196813\"/>\r\n     <use style=\"fill:#1f77b4;stroke:#1f77b4;\" x=\"195.13708\" xlink:href=\"#mdca424365b\" y=\"131.033859\"/>\r\n     <use style=\"fill:#1f77b4;stroke:#1f77b4;\" x=\"191.734444\" xlink:href=\"#mdca424365b\" y=\"126.103224\"/>\r\n     <use style=\"fill:#1f77b4;stroke:#1f77b4;\" x=\"188.654358\" xlink:href=\"#mdca424365b\" y=\"119.681452\"/>\r\n     <use style=\"fill:#1f77b4;stroke:#1f77b4;\" x=\"179.089161\" xlink:href=\"#mdca424365b\" y=\"114.372549\"/>\r\n     <use style=\"fill:#1f77b4;stroke:#1f77b4;\" x=\"172.407296\" xlink:href=\"#mdca424365b\" y=\"110.026334\"/>\r\n     <use style=\"fill:#1f77b4;stroke:#1f77b4;\" x=\"163.746554\" xlink:href=\"#mdca424365b\" y=\"104.898537\"/>\r\n     <use style=\"fill:#1f77b4;stroke:#1f77b4;\" x=\"157.867213\" xlink:href=\"#mdca424365b\" y=\"101.778063\"/>\r\n     <use style=\"fill:#1f77b4;stroke:#1f77b4;\" x=\"152.963926\" xlink:href=\"#mdca424365b\" y=\"99.076509\"/>\r\n     <use style=\"fill:#1f77b4;stroke:#1f77b4;\" x=\"145.700647\" xlink:href=\"#mdca424365b\" y=\"107.558138\"/>\r\n     <use style=\"fill:#1f77b4;stroke:#1f77b4;\" x=\"147.719143\" xlink:href=\"#mdca424365b\" y=\"103.946223\"/>\r\n     <use style=\"fill:#1f77b4;stroke:#1f77b4;\" x=\"145.001127\" xlink:href=\"#mdca424365b\" y=\"98.557794\"/>\r\n     <use style=\"fill:#1f77b4;stroke:#1f77b4;\" x=\"141.062929\" xlink:href=\"#mdca424365b\" y=\"90.42026\"/>\r\n     <use style=\"fill:#1f77b4;stroke:#1f77b4;\" x=\"142.633527\" xlink:href=\"#mdca424365b\" y=\"85.386901\"/>\r\n     <use style=\"fill:#1f77b4;stroke:#1f77b4;\" x=\"143.903693\" xlink:href=\"#mdca424365b\" y=\"81.58184\"/>\r\n     <use style=\"fill:#1f77b4;stroke:#1f77b4;\" x=\"145.215416\" xlink:href=\"#mdca424365b\" y=\"79.073864\"/>\r\n     <use style=\"fill:#1f77b4;stroke:#1f77b4;\" x=\"150.117436\" xlink:href=\"#mdca424365b\" y=\"74.808958\"/>\r\n     <use style=\"fill:#1f77b4;stroke:#1f77b4;\" x=\"154.330564\" xlink:href=\"#mdca424365b\" y=\"71.791499\"/>\r\n     <use style=\"fill:#1f77b4;stroke:#1f77b4;\" x=\"161.918251\" xlink:href=\"#mdca424365b\" y=\"67.075977\"/>\r\n     <use style=\"fill:#1f77b4;stroke:#1f77b4;\" x=\"173.007657\" xlink:href=\"#mdca424365b\" y=\"71.151954\"/>\r\n     <use style=\"fill:#1f77b4;stroke:#1f77b4;\" x=\"179.707808\" xlink:href=\"#mdca424365b\" y=\"67.147571\"/>\r\n     <use style=\"fill:#1f77b4;stroke:#1f77b4;\" x=\"188.339334\" xlink:href=\"#mdca424365b\" y=\"69.100843\"/>\r\n     <use style=\"fill:#1f77b4;stroke:#1f77b4;\" x=\"197.882097\" xlink:href=\"#mdca424365b\" y=\"64.547759\"/>\r\n     <use style=\"fill:#1f77b4;stroke:#1f77b4;\" x=\"203.240241\" xlink:href=\"#mdca424365b\" y=\"65.382225\"/>\r\n     <use style=\"fill:#1f77b4;stroke:#1f77b4;\" x=\"209.410424\" xlink:href=\"#mdca424365b\" y=\"68.337285\"/>\r\n     <use style=\"fill:#1f77b4;stroke:#1f77b4;\" x=\"212.565366\" xlink:href=\"#mdca424365b\" y=\"86.161145\"/>\r\n     <use style=\"fill:#1f77b4;stroke:#1f77b4;\" x=\"211.018109\" xlink:href=\"#mdca424365b\" y=\"79.19846\"/>\r\n     <use style=\"fill:#1f77b4;stroke:#1f77b4;\" x=\"201.768908\" xlink:href=\"#mdca424365b\" y=\"93.615151\"/>\r\n     <use style=\"fill:#1f77b4;stroke:#1f77b4;\" x=\"203.152478\" xlink:href=\"#mdca424365b\" y=\"104.776579\"/>\r\n     <use style=\"fill:#1f77b4;stroke:#1f77b4;\" x=\"202.509183\" xlink:href=\"#mdca424365b\" y=\"112.163234\"/>\r\n     <use style=\"fill:#1f77b4;stroke:#1f77b4;\" x=\"203.583572\" xlink:href=\"#mdca424365b\" y=\"112.28398\"/>\r\n     <use style=\"fill:#1f77b4;stroke:#1f77b4;\" x=\"204.397178\" xlink:href=\"#mdca424365b\" y=\"86.324033\"/>\r\n     <use style=\"fill:#1f77b4;stroke:#1f77b4;\" x=\"204.762911\" xlink:href=\"#mdca424365b\" y=\"89.573834\"/>\r\n     <use style=\"fill:#1f77b4;stroke:#1f77b4;\" x=\"208.665609\" xlink:href=\"#mdca424365b\" y=\"90.441127\"/>\r\n     <use style=\"fill:#1f77b4;stroke:#1f77b4;\" x=\"209.250363\" xlink:href=\"#mdca424365b\" y=\"95.798074\"/>\r\n     <use style=\"fill:#1f77b4;stroke:#1f77b4;\" x=\"208.053933\" xlink:href=\"#mdca424365b\" y=\"95.088268\"/>\r\n    </g>\r\n   </g>\r\n   <g id=\"matplotlib.axis_1\">\r\n    <g id=\"xtick_1\">\r\n     <g id=\"line2d_1\">\r\n      <defs>\r\n       <path d=\"M 0 0 \r\nL 0 3.5 \r\n\" id=\"m59fbb70df8\" style=\"stroke:#000000;stroke-width:0.8;\"/>\r\n      </defs>\r\n      <g>\r\n       <use style=\"stroke:#000000;stroke-width:0.8;\" x=\"43.78125\" xlink:href=\"#m59fbb70df8\" y=\"348.478125\"/>\r\n      </g>\r\n     </g>\r\n     <g id=\"text_1\">\r\n      <!-- 0.0 -->\r\n      <defs>\r\n       <path d=\"M 31.78125 3.421875 \r\nQ 39.265625 3.421875 42.96875 11.625 \r\nQ 46.6875 19.828125 46.6875 36.375 \r\nQ 46.6875 52.984375 42.96875 61.1875 \r\nQ 39.265625 69.390625 31.78125 69.390625 \r\nQ 24.3125 69.390625 20.59375 61.1875 \r\nQ 16.890625 52.984375 16.890625 36.375 \r\nQ 16.890625 19.828125 20.59375 11.625 \r\nQ 24.3125 3.421875 31.78125 3.421875 \r\nz\r\nM 31.78125 -1.421875 \r\nQ 19.921875 -1.421875 13.25 8.53125 \r\nQ 6.59375 18.5 6.59375 36.375 \r\nQ 6.59375 54.296875 13.25 64.25 \r\nQ 19.921875 74.21875 31.78125 74.21875 \r\nQ 43.703125 74.21875 50.34375 64.25 \r\nQ 56.984375 54.296875 56.984375 36.375 \r\nQ 56.984375 18.5 50.34375 8.53125 \r\nQ 43.703125 -1.421875 31.78125 -1.421875 \r\nz\r\n\" id=\"DejaVuSerif-48\"/>\r\n       <path d=\"M 9.421875 5.078125 \r\nQ 9.421875 7.8125 11.28125 9.71875 \r\nQ 13.140625 11.625 15.921875 11.625 \r\nQ 18.609375 11.625 20.5 9.71875 \r\nQ 22.40625 7.8125 22.40625 5.078125 \r\nQ 22.40625 2.390625 20.5 0.484375 \r\nQ 18.609375 -1.421875 15.921875 -1.421875 \r\nQ 13.140625 -1.421875 11.28125 0.453125 \r\nQ 9.421875 2.34375 9.421875 5.078125 \r\nz\r\n\" id=\"DejaVuSerif-46\"/>\r\n      </defs>\r\n      <g transform=\"translate(35.829688 363.076562)scale(0.1 -0.1)\">\r\n       <use xlink:href=\"#DejaVuSerif-48\"/>\r\n       <use x=\"63.623047\" xlink:href=\"#DejaVuSerif-46\"/>\r\n       <use x=\"95.410156\" xlink:href=\"#DejaVuSerif-48\"/>\r\n      </g>\r\n     </g>\r\n    </g>\r\n    <g id=\"xtick_2\">\r\n     <g id=\"line2d_2\">\r\n      <g>\r\n       <use style=\"stroke:#000000;stroke-width:0.8;\" x=\"104.653977\" xlink:href=\"#m59fbb70df8\" y=\"348.478125\"/>\r\n      </g>\r\n     </g>\r\n     <g id=\"text_2\">\r\n      <!-- 0.2 -->\r\n      <defs>\r\n       <path d=\"M 12.796875 55.515625 \r\nL 7.328125 55.515625 \r\nL 7.328125 68.5 \r\nQ 12.546875 71.296875 17.84375 72.75 \r\nQ 23.140625 74.21875 28.21875 74.21875 \r\nQ 39.59375 74.21875 46.1875 68.703125 \r\nQ 52.78125 63.1875 52.78125 53.71875 \r\nQ 52.78125 43.015625 37.84375 28.125 \r\nQ 36.671875 27 36.078125 26.421875 \r\nL 17.671875 8.015625 \r\nL 48.09375 8.015625 \r\nL 48.09375 17 \r\nL 53.8125 17 \r\nL 53.8125 0 \r\nL 6.78125 0 \r\nL 6.78125 5.328125 \r\nL 28.90625 27.390625 \r\nQ 36.234375 34.71875 39.359375 40.84375 \r\nQ 42.484375 46.96875 42.484375 53.71875 \r\nQ 42.484375 61.078125 38.640625 65.234375 \r\nQ 34.8125 69.390625 28.078125 69.390625 \r\nQ 21.09375 69.390625 17.28125 65.921875 \r\nQ 13.484375 62.453125 12.796875 55.515625 \r\nz\r\n\" id=\"DejaVuSerif-50\"/>\r\n      </defs>\r\n      <g transform=\"translate(96.702415 363.076562)scale(0.1 -0.1)\">\r\n       <use xlink:href=\"#DejaVuSerif-48\"/>\r\n       <use x=\"63.623047\" xlink:href=\"#DejaVuSerif-46\"/>\r\n       <use x=\"95.410156\" xlink:href=\"#DejaVuSerif-50\"/>\r\n      </g>\r\n     </g>\r\n    </g>\r\n    <g id=\"xtick_3\">\r\n     <g id=\"line2d_3\">\r\n      <g>\r\n       <use style=\"stroke:#000000;stroke-width:0.8;\" x=\"165.526705\" xlink:href=\"#m59fbb70df8\" y=\"348.478125\"/>\r\n      </g>\r\n     </g>\r\n     <g id=\"text_3\">\r\n      <!-- 0.4 -->\r\n      <defs>\r\n       <path d=\"M 34.90625 24.703125 \r\nL 34.90625 63.484375 \r\nL 10.015625 24.703125 \r\nz\r\nM 56.390625 0 \r\nL 23.1875 0 \r\nL 23.1875 5.171875 \r\nL 34.90625 5.171875 \r\nL 34.90625 19.484375 \r\nL 3.078125 19.484375 \r\nL 3.078125 24.8125 \r\nL 35.015625 74.21875 \r\nL 44.671875 74.21875 \r\nL 44.671875 24.703125 \r\nL 58.59375 24.703125 \r\nL 58.59375 19.484375 \r\nL 44.671875 19.484375 \r\nL 44.671875 5.171875 \r\nL 56.390625 5.171875 \r\nz\r\n\" id=\"DejaVuSerif-52\"/>\r\n      </defs>\r\n      <g transform=\"translate(157.575142 363.076562)scale(0.1 -0.1)\">\r\n       <use xlink:href=\"#DejaVuSerif-48\"/>\r\n       <use x=\"63.623047\" xlink:href=\"#DejaVuSerif-46\"/>\r\n       <use x=\"95.410156\" xlink:href=\"#DejaVuSerif-52\"/>\r\n      </g>\r\n     </g>\r\n    </g>\r\n    <g id=\"xtick_4\">\r\n     <g id=\"line2d_4\">\r\n      <g>\r\n       <use style=\"stroke:#000000;stroke-width:0.8;\" x=\"226.399432\" xlink:href=\"#m59fbb70df8\" y=\"348.478125\"/>\r\n      </g>\r\n     </g>\r\n     <g id=\"text_4\">\r\n      <!-- 0.6 -->\r\n      <defs>\r\n       <path d=\"M 32.71875 3.421875 \r\nQ 39.59375 3.421875 43.296875 8.46875 \r\nQ 47.015625 13.53125 47.015625 23 \r\nQ 47.015625 32.46875 43.296875 37.515625 \r\nQ 39.59375 42.578125 32.71875 42.578125 \r\nQ 25.734375 42.578125 22.0625 37.6875 \r\nQ 18.40625 32.8125 18.40625 23.578125 \r\nQ 18.40625 13.875 22.109375 8.640625 \r\nQ 25.828125 3.421875 32.71875 3.421875 \r\nz\r\nM 16.796875 40.140625 \r\nQ 20.125 43.796875 24.3125 45.59375 \r\nQ 28.515625 47.40625 33.796875 47.40625 \r\nQ 44.671875 47.40625 51 40.859375 \r\nQ 57.328125 34.328125 57.328125 23 \r\nQ 57.328125 11.921875 50.515625 5.25 \r\nQ 43.703125 -1.421875 32.328125 -1.421875 \r\nQ 19.96875 -1.421875 13.328125 7.78125 \r\nQ 6.6875 17 6.6875 34.078125 \r\nQ 6.6875 53.21875 14.546875 63.71875 \r\nQ 22.40625 74.21875 36.71875 74.21875 \r\nQ 40.578125 74.21875 44.828125 73.484375 \r\nQ 49.078125 72.75 53.515625 71.296875 \r\nL 53.515625 59.28125 \r\nL 48 59.28125 \r\nQ 47.40625 64.203125 44.234375 66.796875 \r\nQ 41.0625 69.390625 35.6875 69.390625 \r\nQ 26.21875 69.390625 21.578125 62.203125 \r\nQ 16.9375 55.03125 16.796875 40.140625 \r\nz\r\n\" id=\"DejaVuSerif-54\"/>\r\n      </defs>\r\n      <g transform=\"translate(218.447869 363.076562)scale(0.1 -0.1)\">\r\n       <use xlink:href=\"#DejaVuSerif-48\"/>\r\n       <use x=\"63.623047\" xlink:href=\"#DejaVuSerif-46\"/>\r\n       <use x=\"95.410156\" xlink:href=\"#DejaVuSerif-54\"/>\r\n      </g>\r\n     </g>\r\n    </g>\r\n    <g id=\"xtick_5\">\r\n     <g id=\"line2d_5\">\r\n      <g>\r\n       <use style=\"stroke:#000000;stroke-width:0.8;\" x=\"287.272159\" xlink:href=\"#m59fbb70df8\" y=\"348.478125\"/>\r\n      </g>\r\n     </g>\r\n     <g id=\"text_5\">\r\n      <!-- 0.8 -->\r\n      <defs>\r\n       <path d=\"M 46.578125 19.921875 \r\nQ 46.578125 27.734375 42.6875 32.046875 \r\nQ 38.8125 36.375 31.78125 36.375 \r\nQ 24.75 36.375 20.875 32.046875 \r\nQ 17 27.734375 17 19.921875 \r\nQ 17 12.0625 20.875 7.734375 \r\nQ 24.75 3.421875 31.78125 3.421875 \r\nQ 38.8125 3.421875 42.6875 7.734375 \r\nQ 46.578125 12.0625 46.578125 19.921875 \r\nz\r\nM 44.578125 55.328125 \r\nQ 44.578125 61.96875 41.203125 65.671875 \r\nQ 37.84375 69.390625 31.78125 69.390625 \r\nQ 25.78125 69.390625 22.390625 65.671875 \r\nQ 19 61.96875 19 55.328125 \r\nQ 19 48.640625 22.390625 44.921875 \r\nQ 25.78125 41.21875 31.78125 41.21875 \r\nQ 37.84375 41.21875 41.203125 44.921875 \r\nQ 44.578125 48.640625 44.578125 55.328125 \r\nz\r\nM 39.3125 38.8125 \r\nQ 47.609375 37.703125 52.25 32.6875 \r\nQ 56.890625 27.6875 56.890625 19.921875 \r\nQ 56.890625 9.671875 50.390625 4.125 \r\nQ 43.890625 -1.421875 31.78125 -1.421875 \r\nQ 19.734375 -1.421875 13.203125 4.125 \r\nQ 6.6875 9.671875 6.6875 19.921875 \r\nQ 6.6875 27.6875 11.328125 32.6875 \r\nQ 15.96875 37.703125 24.3125 38.8125 \r\nQ 16.9375 40.140625 13 44.40625 \r\nQ 9.078125 48.6875 9.078125 55.328125 \r\nQ 9.078125 64.109375 15.125 69.15625 \r\nQ 21.1875 74.21875 31.78125 74.21875 \r\nQ 42.390625 74.21875 48.4375 69.15625 \r\nQ 54.5 64.109375 54.5 55.328125 \r\nQ 54.5 48.6875 50.5625 44.40625 \r\nQ 46.625 40.140625 39.3125 38.8125 \r\nz\r\n\" id=\"DejaVuSerif-56\"/>\r\n      </defs>\r\n      <g transform=\"translate(279.320597 363.076562)scale(0.1 -0.1)\">\r\n       <use xlink:href=\"#DejaVuSerif-48\"/>\r\n       <use x=\"63.623047\" xlink:href=\"#DejaVuSerif-46\"/>\r\n       <use x=\"95.410156\" xlink:href=\"#DejaVuSerif-56\"/>\r\n      </g>\r\n     </g>\r\n    </g>\r\n    <g id=\"xtick_6\">\r\n     <g id=\"line2d_6\">\r\n      <g>\r\n       <use style=\"stroke:#000000;stroke-width:0.8;\" x=\"348.144886\" xlink:href=\"#m59fbb70df8\" y=\"348.478125\"/>\r\n      </g>\r\n     </g>\r\n     <g id=\"text_6\">\r\n      <!-- 1.0 -->\r\n      <defs>\r\n       <path d=\"M 14.203125 0 \r\nL 14.203125 5.171875 \r\nL 26.90625 5.171875 \r\nL 26.90625 65.828125 \r\nL 12.203125 56.296875 \r\nL 12.203125 62.703125 \r\nL 29.984375 74.21875 \r\nL 36.71875 74.21875 \r\nL 36.71875 5.171875 \r\nL 49.421875 5.171875 \r\nL 49.421875 0 \r\nz\r\n\" id=\"DejaVuSerif-49\"/>\r\n      </defs>\r\n      <g transform=\"translate(340.193324 363.076562)scale(0.1 -0.1)\">\r\n       <use xlink:href=\"#DejaVuSerif-49\"/>\r\n       <use x=\"63.623047\" xlink:href=\"#DejaVuSerif-46\"/>\r\n       <use x=\"95.410156\" xlink:href=\"#DejaVuSerif-48\"/>\r\n      </g>\r\n     </g>\r\n    </g>\r\n    <g id=\"text_7\">\r\n     <!-- Pixels normalized -->\r\n     <defs>\r\n      <path d=\"M 24.703125 37.109375 \r\nL 37.59375 37.109375 \r\nQ 44.875 37.109375 48.671875 41.03125 \r\nQ 52.484375 44.96875 52.484375 52.390625 \r\nQ 52.484375 59.859375 48.671875 63.765625 \r\nQ 44.875 67.671875 37.59375 67.671875 \r\nL 24.703125 67.671875 \r\nz\r\nM 5.515625 0 \r\nL 5.515625 5.171875 \r\nL 14.796875 5.171875 \r\nL 14.796875 67.671875 \r\nL 5.515625 67.671875 \r\nL 5.515625 72.90625 \r\nL 39.984375 72.90625 \r\nQ 50.921875 72.90625 57.3125 67.359375 \r\nQ 63.71875 61.8125 63.71875 52.390625 \r\nQ 63.71875 43.015625 57.3125 37.453125 \r\nQ 50.921875 31.890625 39.984375 31.890625 \r\nL 24.703125 31.890625 \r\nL 24.703125 5.171875 \r\nL 35.984375 5.171875 \r\nL 35.984375 0 \r\nz\r\n\" id=\"DejaVuSerif-80\"/>\r\n      <path d=\"M 9.71875 68.015625 \r\nQ 9.71875 70.265625 11.34375 71.921875 \r\nQ 12.984375 73.578125 15.28125 73.578125 \r\nQ 17.53125 73.578125 19.15625 71.921875 \r\nQ 20.796875 70.265625 20.796875 68.015625 \r\nQ 20.796875 65.71875 19.1875 64.109375 \r\nQ 17.578125 62.5 15.28125 62.5 \r\nQ 12.984375 62.5 11.34375 64.109375 \r\nQ 9.71875 65.71875 9.71875 68.015625 \r\nz\r\nM 21.1875 5.171875 \r\nL 29.6875 5.171875 \r\nL 29.6875 0 \r\nL 3.609375 0 \r\nL 3.609375 5.171875 \r\nL 12.203125 5.171875 \r\nL 12.203125 46.6875 \r\nL 3.609375 46.6875 \r\nL 3.609375 51.90625 \r\nL 21.1875 51.90625 \r\nz\r\n\" id=\"DejaVuSerif-105\"/>\r\n      <path d=\"M 29.109375 31.6875 \r\nL 39.984375 46.6875 \r\nL 33.015625 46.6875 \r\nL 33.015625 51.90625 \r\nL 52.984375 51.90625 \r\nL 52.984375 46.6875 \r\nL 46.09375 46.6875 \r\nL 32.171875 27.484375 \r\nL 48.390625 5.171875 \r\nL 55.171875 5.171875 \r\nL 55.171875 0 \r\nL 31.203125 0 \r\nL 31.203125 5.171875 \r\nL 37.796875 5.171875 \r\nL 26.515625 20.703125 \r\nL 15.1875 5.171875 \r\nL 21.921875 5.171875 \r\nL 21.921875 0 \r\nL 2.203125 0 \r\nL 2.203125 5.171875 \r\nL 9.078125 5.171875 \r\nL 23.390625 24.90625 \r\nL 7.625 46.6875 \r\nL 1.21875 46.6875 \r\nL 1.21875 51.90625 \r\nL 24.421875 51.90625 \r\nL 24.421875 46.6875 \r\nL 18.21875 46.6875 \r\nz\r\n\" id=\"DejaVuSerif-120\"/>\r\n      <path d=\"M 54.203125 25 \r\nL 15.484375 25 \r\nL 15.484375 24.609375 \r\nQ 15.484375 14.109375 19.4375 8.765625 \r\nQ 23.390625 3.421875 31.109375 3.421875 \r\nQ 37.015625 3.421875 40.796875 6.515625 \r\nQ 44.578125 9.625 46.09375 15.71875 \r\nL 53.328125 15.71875 \r\nQ 51.171875 7.171875 45.375 2.875 \r\nQ 39.59375 -1.421875 30.171875 -1.421875 \r\nQ 18.796875 -1.421875 11.890625 6.078125 \r\nQ 4.984375 13.578125 4.984375 25.984375 \r\nQ 4.984375 38.28125 11.765625 45.796875 \r\nQ 18.5625 53.328125 29.59375 53.328125 \r\nQ 41.359375 53.328125 47.65625 46.0625 \r\nQ 53.953125 38.8125 54.203125 25 \r\nz\r\nM 43.609375 30.171875 \r\nQ 43.3125 39.265625 39.765625 43.875 \r\nQ 36.234375 48.484375 29.59375 48.484375 \r\nQ 23.390625 48.484375 19.828125 43.84375 \r\nQ 16.265625 39.203125 15.484375 30.171875 \r\nz\r\n\" id=\"DejaVuSerif-101\"/>\r\n      <path d=\"M 20.515625 5.171875 \r\nL 29 5.171875 \r\nL 29 0 \r\nL 2.875 0 \r\nL 2.875 5.171875 \r\nL 11.53125 5.171875 \r\nL 11.53125 70.796875 \r\nL 2.875 70.796875 \r\nL 2.875 75.984375 \r\nL 20.515625 75.984375 \r\nz\r\n\" id=\"DejaVuSerif-108\"/>\r\n      <path d=\"M 5.609375 2.875 \r\nL 5.609375 14.984375 \r\nL 10.796875 14.984375 \r\nQ 10.984375 9.1875 14.421875 6.296875 \r\nQ 17.875 3.421875 24.609375 3.421875 \r\nQ 30.671875 3.421875 33.84375 5.6875 \r\nQ 37.015625 7.953125 37.015625 12.3125 \r\nQ 37.015625 15.71875 34.6875 17.8125 \r\nQ 32.375 19.921875 24.90625 22.3125 \r\nL 18.40625 24.515625 \r\nQ 11.71875 26.65625 8.71875 29.875 \r\nQ 5.71875 33.109375 5.71875 38.09375 \r\nQ 5.71875 45.21875 10.9375 49.265625 \r\nQ 16.15625 53.328125 25.390625 53.328125 \r\nQ 29.5 53.328125 34.03125 52.25 \r\nQ 38.578125 51.171875 43.40625 49.125 \r\nL 43.40625 37.796875 \r\nL 38.234375 37.796875 \r\nQ 38.03125 42.828125 34.703125 45.65625 \r\nQ 31.390625 48.484375 25.6875 48.484375 \r\nQ 20.015625 48.484375 17.109375 46.484375 \r\nQ 14.203125 44.484375 14.203125 40.484375 \r\nQ 14.203125 37.203125 16.40625 35.21875 \r\nQ 18.609375 33.25 25.203125 31.203125 \r\nL 32.328125 29 \r\nQ 39.703125 26.703125 42.9375 23.265625 \r\nQ 46.1875 19.828125 46.1875 14.40625 \r\nQ 46.1875 7.03125 40.546875 2.796875 \r\nQ 34.90625 -1.421875 25 -1.421875 \r\nQ 19.96875 -1.421875 15.1875 -0.34375 \r\nQ 10.40625 0.734375 5.609375 2.875 \r\nz\r\n\" id=\"DejaVuSerif-115\"/>\r\n      <path id=\"DejaVuSerif-32\"/>\r\n      <path d=\"M 4.109375 0 \r\nL 4.109375 5.171875 \r\nL 12.203125 5.171875 \r\nL 12.203125 46.6875 \r\nL 3.609375 46.6875 \r\nL 3.609375 51.90625 \r\nL 21.1875 51.90625 \r\nL 21.1875 42.671875 \r\nQ 23.6875 47.953125 27.65625 50.640625 \r\nQ 31.640625 53.328125 36.921875 53.328125 \r\nQ 45.515625 53.328125 49.5625 48.390625 \r\nQ 53.609375 43.453125 53.609375 33.015625 \r\nL 53.609375 5.171875 \r\nL 61.625 5.171875 \r\nL 61.625 0 \r\nL 36.8125 0 \r\nL 36.8125 5.171875 \r\nL 44.578125 5.171875 \r\nL 44.578125 30.171875 \r\nQ 44.578125 39.703125 42.234375 43.234375 \r\nQ 39.890625 46.78125 33.984375 46.78125 \r\nQ 27.734375 46.78125 24.453125 42.203125 \r\nQ 21.1875 37.640625 21.1875 28.90625 \r\nL 21.1875 5.171875 \r\nL 29 5.171875 \r\nL 29 0 \r\nz\r\n\" id=\"DejaVuSerif-110\"/>\r\n      <path d=\"M 30.078125 3.421875 \r\nQ 37.3125 3.421875 40.984375 9.125 \r\nQ 44.671875 14.84375 44.671875 25.984375 \r\nQ 44.671875 37.109375 40.984375 42.796875 \r\nQ 37.3125 48.484375 30.078125 48.484375 \r\nQ 22.859375 48.484375 19.171875 42.796875 \r\nQ 15.484375 37.109375 15.484375 25.984375 \r\nQ 15.484375 14.84375 19.1875 9.125 \r\nQ 22.90625 3.421875 30.078125 3.421875 \r\nz\r\nM 30.078125 -1.421875 \r\nQ 18.75 -1.421875 11.859375 6.078125 \r\nQ 4.984375 13.578125 4.984375 25.984375 \r\nQ 4.984375 38.375 11.84375 45.84375 \r\nQ 18.703125 53.328125 30.078125 53.328125 \r\nQ 41.453125 53.328125 48.3125 45.84375 \r\nQ 55.171875 38.375 55.171875 25.984375 \r\nQ 55.171875 13.578125 48.3125 6.078125 \r\nQ 41.453125 -1.421875 30.078125 -1.421875 \r\nz\r\n\" id=\"DejaVuSerif-111\"/>\r\n      <path d=\"M 47.796875 52 \r\nL 47.796875 39.015625 \r\nL 42.625 39.015625 \r\nQ 42.390625 42.875 40.484375 44.78125 \r\nQ 38.578125 46.6875 34.90625 46.6875 \r\nQ 28.265625 46.6875 24.71875 42.09375 \r\nQ 21.1875 37.5 21.1875 28.90625 \r\nL 21.1875 5.171875 \r\nL 31.59375 5.171875 \r\nL 31.59375 0 \r\nL 4.109375 0 \r\nL 4.109375 5.171875 \r\nL 12.203125 5.171875 \r\nL 12.203125 46.78125 \r\nL 3.609375 46.78125 \r\nL 3.609375 51.90625 \r\nL 21.1875 51.90625 \r\nL 21.1875 42.671875 \r\nQ 23.828125 48.09375 27.96875 50.703125 \r\nQ 32.125 53.328125 38.09375 53.328125 \r\nQ 40.28125 53.328125 42.703125 52.984375 \r\nQ 45.125 52.640625 47.796875 52 \r\nz\r\n\" id=\"DejaVuSerif-114\"/>\r\n      <path d=\"M 51.8125 41.796875 \r\nQ 54.390625 47.515625 58.421875 50.421875 \r\nQ 62.453125 53.328125 67.828125 53.328125 \r\nQ 75.984375 53.328125 79.984375 48.265625 \r\nQ 83.984375 43.21875 83.984375 33.015625 \r\nL 83.984375 5.171875 \r\nL 92.09375 5.171875 \r\nL 92.09375 0 \r\nL 67.1875 0 \r\nL 67.1875 5.171875 \r\nL 75 5.171875 \r\nL 75 31.984375 \r\nQ 75 39.9375 72.65625 43.3125 \r\nQ 70.3125 46.6875 64.890625 46.6875 \r\nQ 58.890625 46.6875 55.734375 42.140625 \r\nQ 52.59375 37.59375 52.59375 28.90625 \r\nL 52.59375 5.171875 \r\nL 60.40625 5.171875 \r\nL 60.40625 0 \r\nL 35.796875 0 \r\nL 35.796875 5.171875 \r\nL 43.609375 5.171875 \r\nL 43.609375 32.328125 \r\nQ 43.609375 40.09375 41.265625 43.390625 \r\nQ 38.921875 46.6875 33.5 46.6875 \r\nQ 27.484375 46.6875 24.328125 42.140625 \r\nQ 21.1875 37.59375 21.1875 28.90625 \r\nL 21.1875 5.171875 \r\nL 29 5.171875 \r\nL 29 0 \r\nL 4.109375 0 \r\nL 4.109375 5.171875 \r\nL 12.203125 5.171875 \r\nL 12.203125 46.78125 \r\nL 3.609375 46.78125 \r\nL 3.609375 51.90625 \r\nL 21.1875 51.90625 \r\nL 21.1875 42.671875 \r\nQ 23.6875 47.859375 27.53125 50.59375 \r\nQ 31.390625 53.328125 36.28125 53.328125 \r\nQ 42.328125 53.328125 46.375 50.3125 \r\nQ 50.4375 47.3125 51.8125 41.796875 \r\nz\r\n\" id=\"DejaVuSerif-109\"/>\r\n      <path d=\"M 39.796875 16.3125 \r\nL 39.796875 27.296875 \r\nL 28.21875 27.296875 \r\nQ 21.53125 27.296875 18.25 24.40625 \r\nQ 14.984375 21.53125 14.984375 15.578125 \r\nQ 14.984375 10.15625 18.296875 6.984375 \r\nQ 21.625 3.8125 27.296875 3.8125 \r\nQ 32.90625 3.8125 36.34375 7.28125 \r\nQ 39.796875 10.75 39.796875 16.3125 \r\nz\r\nM 48.78125 32.421875 \r\nL 48.78125 5.171875 \r\nL 56.78125 5.171875 \r\nL 56.78125 0 \r\nL 39.796875 0 \r\nL 39.796875 5.609375 \r\nQ 36.8125 2 32.90625 0.28125 \r\nQ 29 -1.421875 23.78125 -1.421875 \r\nQ 15.140625 -1.421875 10.0625 3.171875 \r\nQ 4.984375 7.765625 4.984375 15.578125 \r\nQ 4.984375 23.640625 10.796875 28.078125 \r\nQ 16.609375 32.515625 27.203125 32.515625 \r\nL 39.796875 32.515625 \r\nL 39.796875 36.078125 \r\nQ 39.796875 42 36.203125 45.234375 \r\nQ 32.625 48.484375 26.125 48.484375 \r\nQ 20.75 48.484375 17.578125 46.046875 \r\nQ 14.40625 43.609375 13.625 38.8125 \r\nL 8.984375 38.8125 \r\nL 8.984375 49.3125 \r\nQ 13.671875 51.3125 18.09375 52.3125 \r\nQ 22.515625 53.328125 26.703125 53.328125 \r\nQ 37.5 53.328125 43.140625 47.96875 \r\nQ 48.78125 42.625 48.78125 32.421875 \r\nz\r\n\" id=\"DejaVuSerif-97\"/>\r\n      <path d=\"M 4 0 \r\nL 4 4.203125 \r\nL 36.53125 46.6875 \r\nL 10.796875 46.6875 \r\nL 10.796875 37.703125 \r\nL 5.609375 37.703125 \r\nL 5.609375 51.90625 \r\nL 48.09375 51.90625 \r\nL 48.09375 47.703125 \r\nL 15.578125 5.171875 \r\nL 43.796875 5.171875 \r\nL 43.796875 14.59375 \r\nL 49.03125 14.59375 \r\nL 49.03125 0 \r\nz\r\n\" id=\"DejaVuSerif-122\"/>\r\n      <path d=\"M 52.484375 5.171875 \r\nL 61.078125 5.171875 \r\nL 61.078125 0 \r\nL 43.5 0 \r\nL 43.5 8.109375 \r\nQ 40.875 3.21875 36.796875 0.890625 \r\nQ 32.71875 -1.421875 26.703125 -1.421875 \r\nQ 17.140625 -1.421875 11.0625 6.171875 \r\nQ 4.984375 13.765625 4.984375 25.984375 \r\nQ 4.984375 38.1875 11.03125 45.75 \r\nQ 17.09375 53.328125 26.703125 53.328125 \r\nQ 32.71875 53.328125 36.796875 51 \r\nQ 40.875 48.6875 43.5 43.796875 \r\nL 43.5 70.796875 \r\nL 35.015625 70.796875 \r\nL 35.015625 75.984375 \r\nL 52.484375 75.984375 \r\nz\r\nM 43.5 23.390625 \r\nL 43.5 28.515625 \r\nQ 43.5 37.84375 39.90625 42.765625 \r\nQ 36.328125 47.703125 29.5 47.703125 \r\nQ 22.5625 47.703125 19.015625 42.234375 \r\nQ 15.484375 36.765625 15.484375 25.984375 \r\nQ 15.484375 15.234375 19.015625 9.71875 \r\nQ 22.5625 4.203125 29.5 4.203125 \r\nQ 36.328125 4.203125 39.90625 9.109375 \r\nQ 43.5 14.015625 43.5 23.390625 \r\nz\r\n\" id=\"DejaVuSerif-100\"/>\r\n     </defs>\r\n     <g transform=\"translate(151.131037 376.754687)scale(0.1 -0.1)\">\r\n      <use xlink:href=\"#DejaVuSerif-80\"/>\r\n      <use x=\"67.285156\" xlink:href=\"#DejaVuSerif-105\"/>\r\n      <use x=\"99.267578\" xlink:href=\"#DejaVuSerif-120\"/>\r\n      <use x=\"155.664062\" xlink:href=\"#DejaVuSerif-101\"/>\r\n      <use x=\"214.84375\" xlink:href=\"#DejaVuSerif-108\"/>\r\n      <use x=\"246.826172\" xlink:href=\"#DejaVuSerif-115\"/>\r\n      <use x=\"298.144531\" xlink:href=\"#DejaVuSerif-32\"/>\r\n      <use x=\"329.931641\" xlink:href=\"#DejaVuSerif-110\"/>\r\n      <use x=\"394.335938\" xlink:href=\"#DejaVuSerif-111\"/>\r\n      <use x=\"454.541016\" xlink:href=\"#DejaVuSerif-114\"/>\r\n      <use x=\"502.34375\" xlink:href=\"#DejaVuSerif-109\"/>\r\n      <use x=\"597.167969\" xlink:href=\"#DejaVuSerif-97\"/>\r\n      <use x=\"656.787109\" xlink:href=\"#DejaVuSerif-108\"/>\r\n      <use x=\"688.769531\" xlink:href=\"#DejaVuSerif-105\"/>\r\n      <use x=\"720.751953\" xlink:href=\"#DejaVuSerif-122\"/>\r\n      <use x=\"773.4375\" xlink:href=\"#DejaVuSerif-101\"/>\r\n      <use x=\"832.617188\" xlink:href=\"#DejaVuSerif-100\"/>\r\n     </g>\r\n    </g>\r\n   </g>\r\n   <g id=\"matplotlib.axis_2\">\r\n    <g id=\"ytick_1\">\r\n     <g id=\"line2d_7\">\r\n      <defs>\r\n       <path d=\"M 0 0 \r\nL -3.5 0 \r\n\" id=\"m3abdb95e97\" style=\"stroke:#000000;stroke-width:0.8;\"/>\r\n      </defs>\r\n      <g>\r\n       <use style=\"stroke:#000000;stroke-width:0.8;\" x=\"43.78125\" xlink:href=\"#m3abdb95e97\" y=\"348.478125\"/>\r\n      </g>\r\n     </g>\r\n     <g id=\"text_8\">\r\n      <!-- 0.0 -->\r\n      <g transform=\"translate(20.878125 352.277344)scale(0.1 -0.1)\">\r\n       <use xlink:href=\"#DejaVuSerif-48\"/>\r\n       <use x=\"63.623047\" xlink:href=\"#DejaVuSerif-46\"/>\r\n       <use x=\"95.410156\" xlink:href=\"#DejaVuSerif-48\"/>\r\n      </g>\r\n     </g>\r\n    </g>\r\n    <g id=\"ytick_2\">\r\n     <g id=\"line2d_8\">\r\n      <g>\r\n       <use style=\"stroke:#000000;stroke-width:0.8;\" x=\"43.78125\" xlink:href=\"#m3abdb95e97\" y=\"283.246125\"/>\r\n      </g>\r\n     </g>\r\n     <g id=\"text_9\">\r\n      <!-- 0.2 -->\r\n      <g transform=\"translate(20.878125 287.045344)scale(0.1 -0.1)\">\r\n       <use xlink:href=\"#DejaVuSerif-48\"/>\r\n       <use x=\"63.623047\" xlink:href=\"#DejaVuSerif-46\"/>\r\n       <use x=\"95.410156\" xlink:href=\"#DejaVuSerif-50\"/>\r\n      </g>\r\n     </g>\r\n    </g>\r\n    <g id=\"ytick_3\">\r\n     <g id=\"line2d_9\">\r\n      <g>\r\n       <use style=\"stroke:#000000;stroke-width:0.8;\" x=\"43.78125\" xlink:href=\"#m3abdb95e97\" y=\"218.014125\"/>\r\n      </g>\r\n     </g>\r\n     <g id=\"text_10\">\r\n      <!-- 0.4 -->\r\n      <g transform=\"translate(20.878125 221.813344)scale(0.1 -0.1)\">\r\n       <use xlink:href=\"#DejaVuSerif-48\"/>\r\n       <use x=\"63.623047\" xlink:href=\"#DejaVuSerif-46\"/>\r\n       <use x=\"95.410156\" xlink:href=\"#DejaVuSerif-52\"/>\r\n      </g>\r\n     </g>\r\n    </g>\r\n    <g id=\"ytick_4\">\r\n     <g id=\"line2d_10\">\r\n      <g>\r\n       <use style=\"stroke:#000000;stroke-width:0.8;\" x=\"43.78125\" xlink:href=\"#m3abdb95e97\" y=\"152.782125\"/>\r\n      </g>\r\n     </g>\r\n     <g id=\"text_11\">\r\n      <!-- 0.6 -->\r\n      <g transform=\"translate(20.878125 156.581344)scale(0.1 -0.1)\">\r\n       <use xlink:href=\"#DejaVuSerif-48\"/>\r\n       <use x=\"63.623047\" xlink:href=\"#DejaVuSerif-46\"/>\r\n       <use x=\"95.410156\" xlink:href=\"#DejaVuSerif-54\"/>\r\n      </g>\r\n     </g>\r\n    </g>\r\n    <g id=\"ytick_5\">\r\n     <g id=\"line2d_11\">\r\n      <g>\r\n       <use style=\"stroke:#000000;stroke-width:0.8;\" x=\"43.78125\" xlink:href=\"#m3abdb95e97\" y=\"87.550125\"/>\r\n      </g>\r\n     </g>\r\n     <g id=\"text_12\">\r\n      <!-- 0.8 -->\r\n      <g transform=\"translate(20.878125 91.349344)scale(0.1 -0.1)\">\r\n       <use xlink:href=\"#DejaVuSerif-48\"/>\r\n       <use x=\"63.623047\" xlink:href=\"#DejaVuSerif-46\"/>\r\n       <use x=\"95.410156\" xlink:href=\"#DejaVuSerif-56\"/>\r\n      </g>\r\n     </g>\r\n    </g>\r\n    <g id=\"ytick_6\">\r\n     <g id=\"line2d_12\">\r\n      <g>\r\n       <use style=\"stroke:#000000;stroke-width:0.8;\" x=\"43.78125\" xlink:href=\"#m3abdb95e97\" y=\"22.318125\"/>\r\n      </g>\r\n     </g>\r\n     <g id=\"text_13\">\r\n      <!-- 1.0 -->\r\n      <g transform=\"translate(20.878125 26.117344)scale(0.1 -0.1)\">\r\n       <use xlink:href=\"#DejaVuSerif-49\"/>\r\n       <use x=\"63.623047\" xlink:href=\"#DejaVuSerif-46\"/>\r\n       <use x=\"95.410156\" xlink:href=\"#DejaVuSerif-48\"/>\r\n      </g>\r\n     </g>\r\n    </g>\r\n    <g id=\"text_14\">\r\n     <!-- Pixels normalized -->\r\n     <g transform=\"translate(14.798438 230.230156)rotate(-90)scale(0.1 -0.1)\">\r\n      <use xlink:href=\"#DejaVuSerif-80\"/>\r\n      <use x=\"67.285156\" xlink:href=\"#DejaVuSerif-105\"/>\r\n      <use x=\"99.267578\" xlink:href=\"#DejaVuSerif-120\"/>\r\n      <use x=\"155.664062\" xlink:href=\"#DejaVuSerif-101\"/>\r\n      <use x=\"214.84375\" xlink:href=\"#DejaVuSerif-108\"/>\r\n      <use x=\"246.826172\" xlink:href=\"#DejaVuSerif-115\"/>\r\n      <use x=\"298.144531\" xlink:href=\"#DejaVuSerif-32\"/>\r\n      <use x=\"329.931641\" xlink:href=\"#DejaVuSerif-110\"/>\r\n      <use x=\"394.335938\" xlink:href=\"#DejaVuSerif-111\"/>\r\n      <use x=\"454.541016\" xlink:href=\"#DejaVuSerif-114\"/>\r\n      <use x=\"502.34375\" xlink:href=\"#DejaVuSerif-109\"/>\r\n      <use x=\"597.167969\" xlink:href=\"#DejaVuSerif-97\"/>\r\n      <use x=\"656.787109\" xlink:href=\"#DejaVuSerif-108\"/>\r\n      <use x=\"688.769531\" xlink:href=\"#DejaVuSerif-105\"/>\r\n      <use x=\"720.751953\" xlink:href=\"#DejaVuSerif-122\"/>\r\n      <use x=\"773.4375\" xlink:href=\"#DejaVuSerif-101\"/>\r\n      <use x=\"832.617188\" xlink:href=\"#DejaVuSerif-100\"/>\r\n     </g>\r\n    </g>\r\n   </g>\r\n   <g id=\"patch_3\">\r\n    <path d=\"M 43.78125 348.478125 \r\nL 43.78125 22.318125 \r\n\" style=\"fill:none;stroke:#000000;stroke-linecap:square;stroke-linejoin:miter;stroke-width:0.8;\"/>\r\n   </g>\r\n   <g id=\"patch_4\">\r\n    <path d=\"M 348.144886 348.478125 \r\nL 348.144886 22.318125 \r\n\" style=\"fill:none;stroke:#000000;stroke-linecap:square;stroke-linejoin:miter;stroke-width:0.8;\"/>\r\n   </g>\r\n   <g id=\"patch_5\">\r\n    <path d=\"M 43.78125 348.478125 \r\nL 348.144886 348.478125 \r\n\" style=\"fill:none;stroke:#000000;stroke-linecap:square;stroke-linejoin:miter;stroke-width:0.8;\"/>\r\n   </g>\r\n   <g id=\"patch_6\">\r\n    <path d=\"M 43.78125 22.318125 \r\nL 348.144886 22.318125 \r\n\" style=\"fill:none;stroke:#000000;stroke-linecap:square;stroke-linejoin:miter;stroke-width:0.8;\"/>\r\n   </g>\r\n   <g id=\"text_15\">\r\n    <!-- Centroid of motion -->\r\n    <defs>\r\n     <path d=\"M 70.515625 19.28125 \r\nQ 67.28125 9.078125 59.6875 3.828125 \r\nQ 52.09375 -1.421875 40.484375 -1.421875 \r\nQ 33.34375 -1.421875 27.234375 1.015625 \r\nQ 21.140625 3.46875 16.40625 8.203125 \r\nQ 10.9375 13.671875 8.265625 20.625 \r\nQ 5.609375 27.59375 5.609375 36.375 \r\nQ 5.609375 53.375 15.421875 63.796875 \r\nQ 25.25 74.21875 41.3125 74.21875 \r\nQ 47.265625 74.21875 54 72.65625 \r\nQ 60.75 71.09375 68.5 67.921875 \r\nL 68.5 51.125 \r\nL 62.984375 51.125 \r\nQ 61.1875 60.296875 55.734375 64.640625 \r\nQ 50.296875 69 40.484375 69 \r\nQ 28.8125 69 22.796875 60.71875 \r\nQ 16.796875 52.4375 16.796875 36.375 \r\nQ 16.796875 20.359375 22.796875 12.078125 \r\nQ 28.8125 3.8125 40.484375 3.8125 \r\nQ 48.640625 3.8125 53.90625 7.6875 \r\nQ 59.1875 11.578125 61.53125 19.28125 \r\nz\r\n\" id=\"DejaVuSerif-67\"/>\r\n     <path d=\"M 10.796875 46.6875 \r\nL 2.875 46.6875 \r\nL 2.875 51.90625 \r\nL 10.796875 51.90625 \r\nL 10.796875 68.015625 \r\nL 19.828125 68.015625 \r\nL 19.828125 51.90625 \r\nL 36.71875 51.90625 \r\nL 36.71875 46.6875 \r\nL 19.828125 46.6875 \r\nL 19.828125 13.71875 \r\nQ 19.828125 7.125 21.09375 5.265625 \r\nQ 22.359375 3.421875 25.78125 3.421875 \r\nQ 29.296875 3.421875 30.90625 5.484375 \r\nQ 32.515625 7.5625 32.625 12.203125 \r\nL 39.40625 12.203125 \r\nQ 39.015625 5.125 35.546875 1.84375 \r\nQ 32.078125 -1.421875 25 -1.421875 \r\nQ 17.234375 -1.421875 14.015625 2.015625 \r\nQ 10.796875 5.46875 10.796875 13.71875 \r\nz\r\n\" id=\"DejaVuSerif-116\"/>\r\n     <path d=\"M 43.015625 63.71875 \r\nL 38.28125 63.71875 \r\nQ 38.234375 67.390625 36.203125 69.28125 \r\nQ 34.1875 71.1875 30.328125 71.1875 \r\nQ 25.296875 71.1875 23.234375 68.421875 \r\nQ 21.1875 65.671875 21.1875 58.59375 \r\nL 21.1875 51.90625 \r\nL 35.6875 51.90625 \r\nL 35.6875 46.6875 \r\nL 21.1875 46.6875 \r\nL 21.1875 5.171875 \r\nL 32.71875 5.171875 \r\nL 32.71875 0 \r\nL 3.609375 0 \r\nL 3.609375 5.171875 \r\nL 12.203125 5.171875 \r\nL 12.203125 46.6875 \r\nL 3.609375 46.6875 \r\nL 3.609375 51.90625 \r\nL 12.203125 51.90625 \r\nL 12.203125 58.40625 \r\nQ 12.203125 67.09375 16.71875 71.53125 \r\nQ 21.234375 75.984375 29.984375 75.984375 \r\nQ 33.25 75.984375 36.515625 75.390625 \r\nQ 39.796875 74.8125 43.015625 73.578125 \r\nz\r\n\" id=\"DejaVuSerif-102\"/>\r\n    </defs>\r\n    <g transform=\"translate(138.549631 16.318125)scale(0.12 -0.12)\">\r\n     <use xlink:href=\"#DejaVuSerif-67\"/>\r\n     <use x=\"76.513672\" xlink:href=\"#DejaVuSerif-101\"/>\r\n     <use x=\"135.693359\" xlink:href=\"#DejaVuSerif-110\"/>\r\n     <use x=\"200.097656\" xlink:href=\"#DejaVuSerif-116\"/>\r\n     <use x=\"240.283203\" xlink:href=\"#DejaVuSerif-114\"/>\r\n     <use x=\"288.085938\" xlink:href=\"#DejaVuSerif-111\"/>\r\n     <use x=\"348.291016\" xlink:href=\"#DejaVuSerif-105\"/>\r\n     <use x=\"380.273438\" xlink:href=\"#DejaVuSerif-100\"/>\r\n     <use x=\"444.287109\" xlink:href=\"#DejaVuSerif-32\"/>\r\n     <use x=\"476.074219\" xlink:href=\"#DejaVuSerif-111\"/>\r\n     <use x=\"536.279297\" xlink:href=\"#DejaVuSerif-102\"/>\r\n     <use x=\"573.291016\" xlink:href=\"#DejaVuSerif-32\"/>\r\n     <use x=\"605.078125\" xlink:href=\"#DejaVuSerif-109\"/>\r\n     <use x=\"699.902344\" xlink:href=\"#DejaVuSerif-111\"/>\r\n     <use x=\"760.107422\" xlink:href=\"#DejaVuSerif-116\"/>\r\n     <use x=\"800.292969\" xlink:href=\"#DejaVuSerif-105\"/>\r\n     <use x=\"832.275391\" xlink:href=\"#DejaVuSerif-111\"/>\r\n     <use x=\"892.480469\" xlink:href=\"#DejaVuSerif-110\"/>\r\n    </g>\r\n   </g>\r\n  </g>\r\n  <g id=\"axes_2\">\r\n   <g id=\"patch_7\">\r\n    <path d=\"M 409.017614 348.478125 \r\nL 713.38125 348.478125 \r\nL 713.38125 22.318125 \r\nL 409.017614 22.318125 \r\nz\r\n\" style=\"fill:#ffffff;\"/>\r\n   </g>\r\n   <g id=\"patch_8\">\r\n    <path clip-path=\"url(#p83c7946b16)\" d=\"M 422.852324 348.478125 \r\nL 518.264123 348.478125 \r\nL 518.264123 77.359975 \r\nL 422.852324 77.359975 \r\nz\r\n\" style=\"fill:#1f77b4;\"/>\r\n   </g>\r\n   <g id=\"patch_9\">\r\n    <path clip-path=\"url(#p83c7946b16)\" d=\"M 427.622914 348.478125 \r\nL 523.034713 348.478125 \r\nL 523.034713 95.727164 \r\nL 427.622914 95.727164 \r\nz\r\n\" style=\"fill:#1f77b4;\"/>\r\n   </g>\r\n   <g id=\"patch_10\">\r\n    <path clip-path=\"url(#p83c7946b16)\" d=\"M 432.393504 348.478125 \r\nL 527.805302 348.478125 \r\nL 527.805302 95.569491 \r\nL 432.393504 95.569491 \r\nz\r\n\" style=\"fill:#1f77b4;\"/>\r\n   </g>\r\n   <g id=\"patch_11\">\r\n    <path clip-path=\"url(#p83c7946b16)\" d=\"M 437.164094 348.478125 \r\nL 532.575892 348.478125 \r\nL 532.575892 77.148627 \r\nL 437.164094 77.148627 \r\nz\r\n\" style=\"fill:#1f77b4;\"/>\r\n   </g>\r\n   <g id=\"patch_12\">\r\n    <path clip-path=\"url(#p83c7946b16)\" d=\"M 441.934684 348.478125 \r\nL 537.346482 348.478125 \r\nL 537.346482 63.878962 \r\nL 441.934684 63.878962 \r\nz\r\n\" style=\"fill:#1f77b4;\"/>\r\n   </g>\r\n   <g id=\"patch_13\">\r\n    <path clip-path=\"url(#p83c7946b16)\" d=\"M 446.705274 348.478125 \r\nL 542.117072 348.478125 \r\nL 542.117072 39.597372 \r\nL 446.705274 39.597372 \r\nz\r\n\" style=\"fill:#1f77b4;\"/>\r\n   </g>\r\n   <g id=\"patch_14\">\r\n    <path clip-path=\"url(#p83c7946b16)\" d=\"M 451.475864 348.478125 \r\nL 546.887662 348.478125 \r\nL 546.887662 37.849554 \r\nL 451.475864 37.849554 \r\nz\r\n\" style=\"fill:#1f77b4;\"/>\r\n   </g>\r\n   <g id=\"patch_15\">\r\n    <path clip-path=\"url(#p83c7946b16)\" d=\"M 456.246454 348.478125 \r\nL 551.658252 348.478125 \r\nL 551.658252 52.001514 \r\nL 456.246454 52.001514 \r\nz\r\n\" style=\"fill:#1f77b4;\"/>\r\n   </g>\r\n   <g id=\"patch_16\">\r\n    <path clip-path=\"url(#p83c7946b16)\" d=\"M 461.017044 348.478125 \r\nL 556.428842 348.478125 \r\nL 556.428842 71.232547 \r\nL 461.017044 71.232547 \r\nz\r\n\" style=\"fill:#1f77b4;\"/>\r\n   </g>\r\n   <g id=\"patch_17\">\r\n    <path clip-path=\"url(#p83c7946b16)\" d=\"M 465.787634 348.478125 \r\nL 561.199432 348.478125 \r\nL 561.199432 80.035379 \r\nL 465.787634 80.035379 \r\nz\r\n\" style=\"fill:#1f77b4;\"/>\r\n   </g>\r\n   <g id=\"patch_18\">\r\n    <path clip-path=\"url(#p83c7946b16)\" d=\"M 470.558223 348.478125 \r\nL 565.970022 348.478125 \r\nL 565.970022 84.284154 \r\nL 470.558223 84.284154 \r\nz\r\n\" style=\"fill:#1f77b4;\"/>\r\n   </g>\r\n   <g id=\"patch_19\">\r\n    <path clip-path=\"url(#p83c7946b16)\" d=\"M 475.328813 348.478125 \r\nL 570.740612 348.478125 \r\nL 570.740612 100.712304 \r\nL 475.328813 100.712304 \r\nz\r\n\" style=\"fill:#1f77b4;\"/>\r\n   </g>\r\n   <g id=\"patch_20\">\r\n    <path clip-path=\"url(#p83c7946b16)\" d=\"M 480.099403 348.478125 \r\nL 575.511202 348.478125 \r\nL 575.511202 115.639209 \r\nL 480.099403 115.639209 \r\nz\r\n\" style=\"fill:#1f77b4;\"/>\r\n   </g>\r\n   <g id=\"patch_21\">\r\n    <path clip-path=\"url(#p83c7946b16)\" d=\"M 484.869993 348.478125 \r\nL 580.281791 348.478125 \r\nL 580.281791 82.771167 \r\nL 484.869993 82.771167 \r\nz\r\n\" style=\"fill:#1f77b4;\"/>\r\n   </g>\r\n   <g id=\"patch_22\">\r\n    <path clip-path=\"url(#p83c7946b16)\" d=\"M 489.640583 348.478125 \r\nL 585.052381 348.478125 \r\nL 585.052381 57.493219 \r\nL 489.640583 57.493219 \r\nz\r\n\" style=\"fill:#1f77b4;\"/>\r\n   </g>\r\n   <g id=\"patch_23\">\r\n    <path clip-path=\"url(#p83c7946b16)\" d=\"M 494.411173 348.478125 \r\nL 589.822971 348.478125 \r\nL 589.822971 56.990009 \r\nL 494.411173 56.990009 \r\nz\r\n\" style=\"fill:#1f77b4;\"/>\r\n   </g>\r\n   <g id=\"patch_24\">\r\n    <path clip-path=\"url(#p83c7946b16)\" d=\"M 499.181763 348.478125 \r\nL 594.593561 348.478125 \r\nL 594.593561 46.112272 \r\nL 499.181763 46.112272 \r\nz\r\n\" style=\"fill:#1f77b4;\"/>\r\n   </g>\r\n   <g id=\"patch_25\">\r\n    <path clip-path=\"url(#p83c7946b16)\" d=\"M 503.952353 348.478125 \r\nL 599.364151 348.478125 \r\nL 599.364151 50.111119 \r\nL 503.952353 50.111119 \r\nz\r\n\" style=\"fill:#1f77b4;\"/>\r\n   </g>\r\n   <g id=\"patch_26\">\r\n    <path clip-path=\"url(#p83c7946b16)\" d=\"M 508.722943 348.478125 \r\nL 604.134741 348.478125 \r\nL 604.134741 48.948703 \r\nL 508.722943 48.948703 \r\nz\r\n\" style=\"fill:#1f77b4;\"/>\r\n   </g>\r\n   <g id=\"patch_27\">\r\n    <path clip-path=\"url(#p83c7946b16)\" d=\"M 513.493533 348.478125 \r\nL 608.905331 348.478125 \r\nL 608.905331 50.480141 \r\nL 513.493533 50.480141 \r\nz\r\n\" style=\"fill:#1f77b4;\"/>\r\n   </g>\r\n   <g id=\"patch_28\">\r\n    <path clip-path=\"url(#p83c7946b16)\" d=\"M 518.264123 348.478125 \r\nL 613.675921 348.478125 \r\nL 613.675921 65.702262 \r\nL 518.264123 65.702262 \r\nz\r\n\" style=\"fill:#1f77b4;\"/>\r\n   </g>\r\n   <g id=\"patch_29\">\r\n    <path clip-path=\"url(#p83c7946b16)\" d=\"M 523.034713 348.478125 \r\nL 618.446511 348.478125 \r\nL 618.446511 77.861509 \r\nL 523.034713 77.861509 \r\nz\r\n\" style=\"fill:#1f77b4;\"/>\r\n   </g>\r\n   <g id=\"patch_30\">\r\n    <path clip-path=\"url(#p83c7946b16)\" d=\"M 527.805302 348.478125 \r\nL 623.217101 348.478125 \r\nL 623.217101 80.513429 \r\nL 527.805302 80.513429 \r\nz\r\n\" style=\"fill:#1f77b4;\"/>\r\n   </g>\r\n   <g id=\"patch_31\">\r\n    <path clip-path=\"url(#p83c7946b16)\" d=\"M 532.575892 348.478125 \r\nL 627.987691 348.478125 \r\nL 627.987691 111.616878 \r\nL 532.575892 111.616878 \r\nz\r\n\" style=\"fill:#1f77b4;\"/>\r\n   </g>\r\n   <g id=\"patch_32\">\r\n    <path clip-path=\"url(#p83c7946b16)\" d=\"M 537.346482 348.478125 \r\nL 632.75828 348.478125 \r\nL 632.75828 117.090133 \r\nL 537.346482 117.090133 \r\nz\r\n\" style=\"fill:#1f77b4;\"/>\r\n   </g>\r\n   <g id=\"patch_33\">\r\n    <path clip-path=\"url(#p83c7946b16)\" d=\"M 542.117072 348.478125 \r\nL 637.52887 348.478125 \r\nL 637.52887 110.169309 \r\nL 542.117072 110.169309 \r\nz\r\n\" style=\"fill:#1f77b4;\"/>\r\n   </g>\r\n   <g id=\"patch_34\">\r\n    <path clip-path=\"url(#p83c7946b16)\" d=\"M 546.887662 348.478125 \r\nL 642.29946 348.478125 \r\nL 642.29946 172.05583 \r\nL 546.887662 172.05583 \r\nz\r\n\" style=\"fill:#1f77b4;\"/>\r\n   </g>\r\n   <g id=\"patch_35\">\r\n    <path clip-path=\"url(#p83c7946b16)\" d=\"M 551.658252 348.478125 \r\nL 647.07005 348.478125 \r\nL 647.07005 233.533074 \r\nL 551.658252 233.533074 \r\nz\r\n\" style=\"fill:#1f77b4;\"/>\r\n   </g>\r\n   <g id=\"patch_36\">\r\n    <path clip-path=\"url(#p83c7946b16)\" d=\"M 556.428842 348.478125 \r\nL 651.84064 348.478125 \r\nL 651.84064 264.862968 \r\nL 556.428842 264.862968 \r\nz\r\n\" style=\"fill:#1f77b4;\"/>\r\n   </g>\r\n   <g id=\"patch_37\">\r\n    <path clip-path=\"url(#p83c7946b16)\" d=\"M 561.199432 348.478125 \r\nL 656.61123 348.478125 \r\nL 656.61123 225.609184 \r\nL 561.199432 225.609184 \r\nz\r\n\" style=\"fill:#1f77b4;\"/>\r\n   </g>\r\n   <g id=\"patch_38\">\r\n    <path clip-path=\"url(#p83c7946b16)\" d=\"M 565.970022 348.478125 \r\nL 661.38182 348.478125 \r\nL 661.38182 176.02784 \r\nL 565.970022 176.02784 \r\nz\r\n\" style=\"fill:#1f77b4;\"/>\r\n   </g>\r\n   <g id=\"patch_39\">\r\n    <path clip-path=\"url(#p83c7946b16)\" d=\"M 570.740612 348.478125 \r\nL 666.15241 348.478125 \r\nL 666.15241 195.285711 \r\nL 570.740612 195.285711 \r\nz\r\n\" style=\"fill:#1f77b4;\"/>\r\n   </g>\r\n   <g id=\"patch_40\">\r\n    <path clip-path=\"url(#p83c7946b16)\" d=\"M 575.511202 348.478125 \r\nL 670.923 348.478125 \r\nL 670.923 186.722743 \r\nL 575.511202 186.722743 \r\nz\r\n\" style=\"fill:#1f77b4;\"/>\r\n   </g>\r\n   <g id=\"patch_41\">\r\n    <path clip-path=\"url(#p83c7946b16)\" d=\"M 580.281791 348.478125 \r\nL 675.69359 348.478125 \r\nL 675.69359 180.860339 \r\nL 580.281791 180.860339 \r\nz\r\n\" style=\"fill:#1f77b4;\"/>\r\n   </g>\r\n   <g id=\"patch_42\">\r\n    <path clip-path=\"url(#p83c7946b16)\" d=\"M 585.052381 348.478125 \r\nL 680.46418 348.478125 \r\nL 680.46418 166.126332 \r\nL 585.052381 166.126332 \r\nz\r\n\" style=\"fill:#1f77b4;\"/>\r\n   </g>\r\n   <g id=\"patch_43\">\r\n    <path clip-path=\"url(#p83c7946b16)\" d=\"M 589.822971 348.478125 \r\nL 685.23477 348.478125 \r\nL 685.23477 158.83481 \r\nL 589.822971 158.83481 \r\nz\r\n\" style=\"fill:#1f77b4;\"/>\r\n   </g>\r\n   <g id=\"patch_44\">\r\n    <path clip-path=\"url(#p83c7946b16)\" d=\"M 594.593561 348.478125 \r\nL 690.005359 348.478125 \r\nL 690.005359 183.928247 \r\nL 594.593561 183.928247 \r\nz\r\n\" style=\"fill:#1f77b4;\"/>\r\n   </g>\r\n   <g id=\"patch_45\">\r\n    <path clip-path=\"url(#p83c7946b16)\" d=\"M 599.364151 348.478125 \r\nL 694.775949 348.478125 \r\nL 694.775949 201.247079 \r\nL 599.364151 201.247079 \r\nz\r\n\" style=\"fill:#1f77b4;\"/>\r\n   </g>\r\n   <g id=\"patch_46\">\r\n    <path clip-path=\"url(#p83c7946b16)\" d=\"M 604.134741 348.478125 \r\nL 699.546539 348.478125 \r\nL 699.546539 193.240998 \r\nL 604.134741 193.240998 \r\nz\r\n\" style=\"fill:#1f77b4;\"/>\r\n   </g>\r\n   <g id=\"matplotlib.axis_3\">\r\n    <g id=\"xtick_7\">\r\n     <g id=\"line2d_13\">\r\n      <g>\r\n       <use style=\"stroke:#000000;stroke-width:0.8;\" x=\"410.92585\" xlink:href=\"#m59fbb70df8\" y=\"348.478125\"/>\r\n      </g>\r\n     </g>\r\n     <g id=\"text_16\">\r\n      <!-- −0.5 -->\r\n      <defs>\r\n       <path d=\"M 10.59375 35.296875 \r\nL 73.1875 35.296875 \r\nL 73.1875 27.390625 \r\nL 10.59375 27.390625 \r\nz\r\n\" id=\"DejaVuSerif-8722\"/>\r\n       <path d=\"M 50.296875 72.90625 \r\nL 50.296875 64.890625 \r\nL 16.890625 64.890625 \r\nL 16.890625 44 \r\nQ 19.4375 45.75 22.828125 46.625 \r\nQ 26.21875 47.515625 30.421875 47.515625 \r\nQ 42.234375 47.515625 49.0625 40.96875 \r\nQ 55.90625 34.421875 55.90625 23.09375 \r\nQ 55.90625 11.53125 49 5.046875 \r\nQ 42.09375 -1.421875 29.59375 -1.421875 \r\nQ 24.5625 -1.421875 19.28125 -0.1875 \r\nQ 14.015625 1.03125 8.5 3.515625 \r\nL 8.5 17.671875 \r\nL 14.015625 17.671875 \r\nQ 14.453125 10.75 18.421875 7.078125 \r\nQ 22.40625 3.421875 29.59375 3.421875 \r\nQ 37.3125 3.421875 41.453125 8.5 \r\nQ 45.609375 13.578125 45.609375 23.09375 \r\nQ 45.609375 32.5625 41.484375 37.609375 \r\nQ 37.359375 42.671875 29.59375 42.671875 \r\nQ 25.203125 42.671875 21.84375 41.109375 \r\nQ 18.5 39.546875 15.921875 36.28125 \r\nL 11.71875 36.28125 \r\nL 11.71875 72.90625 \r\nz\r\n\" id=\"DejaVuSerif-53\"/>\r\n      </defs>\r\n      <g transform=\"translate(398.784443 363.076562)scale(0.1 -0.1)\">\r\n       <use xlink:href=\"#DejaVuSerif-8722\"/>\r\n       <use x=\"83.789062\" xlink:href=\"#DejaVuSerif-48\"/>\r\n       <use x=\"147.412109\" xlink:href=\"#DejaVuSerif-46\"/>\r\n       <use x=\"179.199219\" xlink:href=\"#DejaVuSerif-53\"/>\r\n      </g>\r\n     </g>\r\n    </g>\r\n    <g id=\"xtick_8\">\r\n     <g id=\"line2d_14\">\r\n      <g>\r\n       <use style=\"stroke:#000000;stroke-width:0.8;\" x=\"470.558223\" xlink:href=\"#m59fbb70df8\" y=\"348.478125\"/>\r\n      </g>\r\n     </g>\r\n     <g id=\"text_17\">\r\n      <!-- 0.0 -->\r\n      <g transform=\"translate(462.606661 363.076562)scale(0.1 -0.1)\">\r\n       <use xlink:href=\"#DejaVuSerif-48\"/>\r\n       <use x=\"63.623047\" xlink:href=\"#DejaVuSerif-46\"/>\r\n       <use x=\"95.410156\" xlink:href=\"#DejaVuSerif-48\"/>\r\n      </g>\r\n     </g>\r\n    </g>\r\n    <g id=\"xtick_9\">\r\n     <g id=\"line2d_15\">\r\n      <g>\r\n       <use style=\"stroke:#000000;stroke-width:0.8;\" x=\"530.190597\" xlink:href=\"#m59fbb70df8\" y=\"348.478125\"/>\r\n      </g>\r\n     </g>\r\n     <g id=\"text_18\">\r\n      <!-- 0.5 -->\r\n      <g transform=\"translate(522.239035 363.076562)scale(0.1 -0.1)\">\r\n       <use xlink:href=\"#DejaVuSerif-48\"/>\r\n       <use x=\"63.623047\" xlink:href=\"#DejaVuSerif-46\"/>\r\n       <use x=\"95.410156\" xlink:href=\"#DejaVuSerif-53\"/>\r\n      </g>\r\n     </g>\r\n    </g>\r\n    <g id=\"xtick_10\">\r\n     <g id=\"line2d_16\">\r\n      <g>\r\n       <use style=\"stroke:#000000;stroke-width:0.8;\" x=\"589.822971\" xlink:href=\"#m59fbb70df8\" y=\"348.478125\"/>\r\n      </g>\r\n     </g>\r\n     <g id=\"text_19\">\r\n      <!-- 1.0 -->\r\n      <g transform=\"translate(581.871409 363.076562)scale(0.1 -0.1)\">\r\n       <use xlink:href=\"#DejaVuSerif-49\"/>\r\n       <use x=\"63.623047\" xlink:href=\"#DejaVuSerif-46\"/>\r\n       <use x=\"95.410156\" xlink:href=\"#DejaVuSerif-48\"/>\r\n      </g>\r\n     </g>\r\n    </g>\r\n    <g id=\"xtick_11\">\r\n     <g id=\"line2d_17\">\r\n      <g>\r\n       <use style=\"stroke:#000000;stroke-width:0.8;\" x=\"649.455345\" xlink:href=\"#m59fbb70df8\" y=\"348.478125\"/>\r\n      </g>\r\n     </g>\r\n     <g id=\"text_20\">\r\n      <!-- 1.5 -->\r\n      <g transform=\"translate(641.503783 363.076562)scale(0.1 -0.1)\">\r\n       <use xlink:href=\"#DejaVuSerif-49\"/>\r\n       <use x=\"63.623047\" xlink:href=\"#DejaVuSerif-46\"/>\r\n       <use x=\"95.410156\" xlink:href=\"#DejaVuSerif-53\"/>\r\n      </g>\r\n     </g>\r\n    </g>\r\n    <g id=\"xtick_12\">\r\n     <g id=\"line2d_18\">\r\n      <g>\r\n       <use style=\"stroke:#000000;stroke-width:0.8;\" x=\"709.087719\" xlink:href=\"#m59fbb70df8\" y=\"348.478125\"/>\r\n      </g>\r\n     </g>\r\n     <g id=\"text_21\">\r\n      <!-- 2.0 -->\r\n      <g transform=\"translate(701.136157 363.076562)scale(0.1 -0.1)\">\r\n       <use xlink:href=\"#DejaVuSerif-50\"/>\r\n       <use x=\"63.623047\" xlink:href=\"#DejaVuSerif-46\"/>\r\n       <use x=\"95.410156\" xlink:href=\"#DejaVuSerif-48\"/>\r\n      </g>\r\n     </g>\r\n    </g>\r\n    <g id=\"text_22\">\r\n     <!-- Time[seconds] -->\r\n     <defs>\r\n      <path d=\"M 19.09375 0 \r\nL 19.09375 5.171875 \r\nL 28.421875 5.171875 \r\nL 28.421875 67.09375 \r\nL 6.984375 67.09375 \r\nL 6.984375 55.71875 \r\nL 0.984375 55.71875 \r\nL 0.984375 72.90625 \r\nL 65.71875 72.90625 \r\nL 65.71875 55.71875 \r\nL 59.71875 55.71875 \r\nL 59.71875 67.09375 \r\nL 38.28125 67.09375 \r\nL 38.28125 5.171875 \r\nL 47.609375 5.171875 \r\nL 47.609375 0 \r\nz\r\n\" id=\"DejaVuSerif-84\"/>\r\n      <path d=\"M 8.59375 75.984375 \r\nL 31.296875 75.984375 \r\nL 31.296875 70.796875 \r\nL 17.921875 70.796875 \r\nL 17.921875 -8.015625 \r\nL 31.296875 -8.015625 \r\nL 31.296875 -13.1875 \r\nL 8.59375 -13.1875 \r\nz\r\n\" id=\"DejaVuSerif-91\"/>\r\n      <path d=\"M 51.421875 15.578125 \r\nQ 49.515625 7.28125 44.09375 2.921875 \r\nQ 38.671875 -1.421875 30.078125 -1.421875 \r\nQ 18.75 -1.421875 11.859375 6.078125 \r\nQ 4.984375 13.578125 4.984375 25.984375 \r\nQ 4.984375 38.421875 11.859375 45.875 \r\nQ 18.75 53.328125 30.078125 53.328125 \r\nQ 35.015625 53.328125 39.890625 52.171875 \r\nQ 44.78125 51.03125 49.703125 48.6875 \r\nL 49.703125 35.40625 \r\nL 44.484375 35.40625 \r\nQ 43.453125 42.234375 40.015625 45.359375 \r\nQ 36.578125 48.484375 30.171875 48.484375 \r\nQ 22.90625 48.484375 19.1875 42.84375 \r\nQ 15.484375 37.203125 15.484375 25.984375 \r\nQ 15.484375 14.75 19.171875 9.078125 \r\nQ 22.859375 3.421875 30.171875 3.421875 \r\nQ 35.984375 3.421875 39.453125 6.4375 \r\nQ 42.921875 9.46875 44.1875 15.578125 \r\nz\r\n\" id=\"DejaVuSerif-99\"/>\r\n      <path d=\"M 30.421875 75.984375 \r\nL 30.421875 -13.1875 \r\nL 7.71875 -13.1875 \r\nL 7.71875 -8.015625 \r\nL 21.09375 -8.015625 \r\nL 21.09375 70.796875 \r\nL 7.71875 70.796875 \r\nL 7.71875 75.984375 \r\nz\r\n\" id=\"DejaVuSerif-93\"/>\r\n     </defs>\r\n     <g transform=\"translate(524.340838 376.754687)scale(0.1 -0.1)\">\r\n      <use xlink:href=\"#DejaVuSerif-84\"/>\r\n      <use x=\"66.699219\" xlink:href=\"#DejaVuSerif-105\"/>\r\n      <use x=\"98.681641\" xlink:href=\"#DejaVuSerif-109\"/>\r\n      <use x=\"193.505859\" xlink:href=\"#DejaVuSerif-101\"/>\r\n      <use x=\"252.685547\" xlink:href=\"#DejaVuSerif-91\"/>\r\n      <use x=\"291.699219\" xlink:href=\"#DejaVuSerif-115\"/>\r\n      <use x=\"343.017578\" xlink:href=\"#DejaVuSerif-101\"/>\r\n      <use x=\"402.197266\" xlink:href=\"#DejaVuSerif-99\"/>\r\n      <use x=\"458.203125\" xlink:href=\"#DejaVuSerif-111\"/>\r\n      <use x=\"518.408203\" xlink:href=\"#DejaVuSerif-110\"/>\r\n      <use x=\"582.8125\" xlink:href=\"#DejaVuSerif-100\"/>\r\n      <use x=\"646.826172\" xlink:href=\"#DejaVuSerif-115\"/>\r\n      <use x=\"698.144531\" xlink:href=\"#DejaVuSerif-93\"/>\r\n     </g>\r\n    </g>\r\n   </g>\r\n   <g id=\"matplotlib.axis_4\">\r\n    <g id=\"ytick_7\">\r\n     <g id=\"line2d_19\">\r\n      <g>\r\n       <use style=\"stroke:#000000;stroke-width:0.8;\" x=\"409.017614\" xlink:href=\"#m3abdb95e97\" y=\"348.478125\"/>\r\n      </g>\r\n     </g>\r\n     <g id=\"text_23\">\r\n      <!-- 0.0 -->\r\n      <g transform=\"translate(386.114489 352.277344)scale(0.1 -0.1)\">\r\n       <use xlink:href=\"#DejaVuSerif-48\"/>\r\n       <use x=\"63.623047\" xlink:href=\"#DejaVuSerif-46\"/>\r\n       <use x=\"95.410156\" xlink:href=\"#DejaVuSerif-48\"/>\r\n      </g>\r\n     </g>\r\n    </g>\r\n    <g id=\"ytick_8\">\r\n     <g id=\"line2d_20\">\r\n      <g>\r\n       <use style=\"stroke:#000000;stroke-width:0.8;\" x=\"409.017614\" xlink:href=\"#m3abdb95e97\" y=\"301.08776\"/>\r\n      </g>\r\n     </g>\r\n     <g id=\"text_24\">\r\n      <!-- 0.2 -->\r\n      <g transform=\"translate(386.114489 304.886979)scale(0.1 -0.1)\">\r\n       <use xlink:href=\"#DejaVuSerif-48\"/>\r\n       <use x=\"63.623047\" xlink:href=\"#DejaVuSerif-46\"/>\r\n       <use x=\"95.410156\" xlink:href=\"#DejaVuSerif-50\"/>\r\n      </g>\r\n     </g>\r\n    </g>\r\n    <g id=\"ytick_9\">\r\n     <g id=\"line2d_21\">\r\n      <g>\r\n       <use style=\"stroke:#000000;stroke-width:0.8;\" x=\"409.017614\" xlink:href=\"#m3abdb95e97\" y=\"253.697395\"/>\r\n      </g>\r\n     </g>\r\n     <g id=\"text_25\">\r\n      <!-- 0.4 -->\r\n      <g transform=\"translate(386.114489 257.496614)scale(0.1 -0.1)\">\r\n       <use xlink:href=\"#DejaVuSerif-48\"/>\r\n       <use x=\"63.623047\" xlink:href=\"#DejaVuSerif-46\"/>\r\n       <use x=\"95.410156\" xlink:href=\"#DejaVuSerif-52\"/>\r\n      </g>\r\n     </g>\r\n    </g>\r\n    <g id=\"ytick_10\">\r\n     <g id=\"line2d_22\">\r\n      <g>\r\n       <use style=\"stroke:#000000;stroke-width:0.8;\" x=\"409.017614\" xlink:href=\"#m3abdb95e97\" y=\"206.30703\"/>\r\n      </g>\r\n     </g>\r\n     <g id=\"text_26\">\r\n      <!-- 0.6 -->\r\n      <g transform=\"translate(386.114489 210.106249)scale(0.1 -0.1)\">\r\n       <use xlink:href=\"#DejaVuSerif-48\"/>\r\n       <use x=\"63.623047\" xlink:href=\"#DejaVuSerif-46\"/>\r\n       <use x=\"95.410156\" xlink:href=\"#DejaVuSerif-54\"/>\r\n      </g>\r\n     </g>\r\n    </g>\r\n    <g id=\"ytick_11\">\r\n     <g id=\"line2d_23\">\r\n      <g>\r\n       <use style=\"stroke:#000000;stroke-width:0.8;\" x=\"409.017614\" xlink:href=\"#m3abdb95e97\" y=\"158.916665\"/>\r\n      </g>\r\n     </g>\r\n     <g id=\"text_27\">\r\n      <!-- 0.8 -->\r\n      <g transform=\"translate(386.114489 162.715884)scale(0.1 -0.1)\">\r\n       <use xlink:href=\"#DejaVuSerif-48\"/>\r\n       <use x=\"63.623047\" xlink:href=\"#DejaVuSerif-46\"/>\r\n       <use x=\"95.410156\" xlink:href=\"#DejaVuSerif-56\"/>\r\n      </g>\r\n     </g>\r\n    </g>\r\n    <g id=\"ytick_12\">\r\n     <g id=\"line2d_24\">\r\n      <g>\r\n       <use style=\"stroke:#000000;stroke-width:0.8;\" x=\"409.017614\" xlink:href=\"#m3abdb95e97\" y=\"111.5263\"/>\r\n      </g>\r\n     </g>\r\n     <g id=\"text_28\">\r\n      <!-- 1.0 -->\r\n      <g transform=\"translate(386.114489 115.325519)scale(0.1 -0.1)\">\r\n       <use xlink:href=\"#DejaVuSerif-49\"/>\r\n       <use x=\"63.623047\" xlink:href=\"#DejaVuSerif-46\"/>\r\n       <use x=\"95.410156\" xlink:href=\"#DejaVuSerif-48\"/>\r\n      </g>\r\n     </g>\r\n    </g>\r\n    <g id=\"ytick_13\">\r\n     <g id=\"line2d_25\">\r\n      <g>\r\n       <use style=\"stroke:#000000;stroke-width:0.8;\" x=\"409.017614\" xlink:href=\"#m3abdb95e97\" y=\"64.135935\"/>\r\n      </g>\r\n     </g>\r\n     <g id=\"text_29\">\r\n      <!-- 1.2 -->\r\n      <g transform=\"translate(386.114489 67.935154)scale(0.1 -0.1)\">\r\n       <use xlink:href=\"#DejaVuSerif-49\"/>\r\n       <use x=\"63.623047\" xlink:href=\"#DejaVuSerif-46\"/>\r\n       <use x=\"95.410156\" xlink:href=\"#DejaVuSerif-50\"/>\r\n      </g>\r\n     </g>\r\n    </g>\r\n    <g id=\"text_30\">\r\n     <!-- Pixels normalized -->\r\n     <g transform=\"translate(380.034801 230.230156)rotate(-90)scale(0.1 -0.1)\">\r\n      <use xlink:href=\"#DejaVuSerif-80\"/>\r\n      <use x=\"67.285156\" xlink:href=\"#DejaVuSerif-105\"/>\r\n      <use x=\"99.267578\" xlink:href=\"#DejaVuSerif-120\"/>\r\n      <use x=\"155.664062\" xlink:href=\"#DejaVuSerif-101\"/>\r\n      <use x=\"214.84375\" xlink:href=\"#DejaVuSerif-108\"/>\r\n      <use x=\"246.826172\" xlink:href=\"#DejaVuSerif-115\"/>\r\n      <use x=\"298.144531\" xlink:href=\"#DejaVuSerif-32\"/>\r\n      <use x=\"329.931641\" xlink:href=\"#DejaVuSerif-110\"/>\r\n      <use x=\"394.335938\" xlink:href=\"#DejaVuSerif-111\"/>\r\n      <use x=\"454.541016\" xlink:href=\"#DejaVuSerif-114\"/>\r\n      <use x=\"502.34375\" xlink:href=\"#DejaVuSerif-109\"/>\r\n      <use x=\"597.167969\" xlink:href=\"#DejaVuSerif-97\"/>\r\n      <use x=\"656.787109\" xlink:href=\"#DejaVuSerif-108\"/>\r\n      <use x=\"688.769531\" xlink:href=\"#DejaVuSerif-105\"/>\r\n      <use x=\"720.751953\" xlink:href=\"#DejaVuSerif-122\"/>\r\n      <use x=\"773.4375\" xlink:href=\"#DejaVuSerif-101\"/>\r\n      <use x=\"832.617188\" xlink:href=\"#DejaVuSerif-100\"/>\r\n     </g>\r\n    </g>\r\n   </g>\r\n   <g id=\"patch_47\">\r\n    <path d=\"M 409.017614 348.478125 \r\nL 409.017614 22.318125 \r\n\" style=\"fill:none;stroke:#000000;stroke-linecap:square;stroke-linejoin:miter;stroke-width:0.8;\"/>\r\n   </g>\r\n   <g id=\"patch_48\">\r\n    <path d=\"M 713.38125 348.478125 \r\nL 713.38125 22.318125 \r\n\" style=\"fill:none;stroke:#000000;stroke-linecap:square;stroke-linejoin:miter;stroke-width:0.8;\"/>\r\n   </g>\r\n   <g id=\"patch_49\">\r\n    <path d=\"M 409.017614 348.478125 \r\nL 713.38125 348.478125 \r\n\" style=\"fill:none;stroke:#000000;stroke-linecap:square;stroke-linejoin:miter;stroke-width:0.8;\"/>\r\n   </g>\r\n   <g id=\"patch_50\">\r\n    <path d=\"M 409.017614 22.318125 \r\nL 713.38125 22.318125 \r\n\" style=\"fill:none;stroke:#000000;stroke-linecap:square;stroke-linejoin:miter;stroke-width:0.8;\"/>\r\n   </g>\r\n   <g id=\"text_31\">\r\n    <!-- Quantity of motion -->\r\n    <defs>\r\n     <path d=\"M 42.1875 -1.421875 \r\nQ 25.4375 -1.421875 15.515625 8.859375 \r\nQ 5.609375 19.140625 5.609375 36.375 \r\nQ 5.609375 45.21875 8.265625 52.171875 \r\nQ 10.9375 59.125 16.40625 64.59375 \r\nQ 21.1875 69.390625 27.34375 71.796875 \r\nQ 33.5 74.21875 41.015625 74.21875 \r\nQ 56.890625 74.21875 66.65625 63.8125 \r\nQ 76.421875 53.421875 76.421875 36.375 \r\nQ 76.421875 21.921875 69.09375 12.078125 \r\nQ 61.765625 2.25 48.875 -0.59375 \r\nQ 51.515625 -3.859375 55.296875 -5.421875 \r\nQ 59.078125 -6.984375 64.40625 -6.984375 \r\nL 65.921875 -6.984375 \r\nL 65.921875 -16.015625 \r\nQ 57.671875 -15.625 51.78125 -11.984375 \r\nQ 45.90625 -8.34375 42.1875 -1.421875 \r\nz\r\nM 41.015625 3.8125 \r\nQ 52.984375 3.8125 59.078125 12.03125 \r\nQ 65.1875 20.265625 65.1875 36.375 \r\nQ 65.1875 52.546875 59.078125 60.765625 \r\nQ 52.984375 69 41.015625 69 \r\nQ 29 69 22.890625 60.765625 \r\nQ 16.796875 52.546875 16.796875 36.375 \r\nQ 16.796875 20.265625 22.890625 12.03125 \r\nQ 29 3.8125 41.015625 3.8125 \r\nz\r\n\" id=\"DejaVuSerif-81\"/>\r\n     <path d=\"M 35.40625 51.90625 \r\nL 52.203125 51.90625 \r\nL 52.203125 5.171875 \r\nL 60.6875 5.171875 \r\nL 60.6875 0 \r\nL 43.21875 0 \r\nL 43.21875 9.1875 \r\nQ 40.71875 4 36.765625 1.28125 \r\nQ 32.8125 -1.421875 27.59375 -1.421875 \r\nQ 18.953125 -1.421875 14.875 3.484375 \r\nQ 10.796875 8.40625 10.796875 18.890625 \r\nL 10.796875 46.6875 \r\nL 2.6875 46.6875 \r\nL 2.6875 51.90625 \r\nL 19.828125 51.90625 \r\nL 19.828125 21.6875 \r\nQ 19.828125 12.203125 22.140625 8.6875 \r\nQ 24.46875 5.171875 30.421875 5.171875 \r\nQ 36.671875 5.171875 39.9375 9.765625 \r\nQ 43.21875 14.359375 43.21875 23.09375 \r\nL 43.21875 46.6875 \r\nL 35.40625 46.6875 \r\nz\r\n\" id=\"DejaVuSerif-117\"/>\r\n     <path d=\"M 21.578125 -9.515625 \r\nL 25 -0.875 \r\nL 5.609375 46.6875 \r\nL -0.296875 46.6875 \r\nL -0.296875 51.90625 \r\nL 23.578125 51.90625 \r\nL 23.578125 46.6875 \r\nL 15.28125 46.6875 \r\nL 29.890625 10.984375 \r\nL 44.484375 46.6875 \r\nL 36.71875 46.6875 \r\nL 36.71875 51.90625 \r\nL 56.203125 51.90625 \r\nL 56.203125 46.6875 \r\nL 50.390625 46.6875 \r\nL 26.609375 -11.71875 \r\nQ 24.171875 -17.78125 21.1875 -20 \r\nQ 18.21875 -22.21875 12.796875 -22.21875 \r\nQ 10.5 -22.21875 8.078125 -21.828125 \r\nQ 5.671875 -21.4375 3.21875 -20.703125 \r\nL 3.21875 -10.796875 \r\nL 7.8125 -10.796875 \r\nQ 8.109375 -14.109375 9.5 -15.546875 \r\nQ 10.890625 -17 13.8125 -17 \r\nQ 16.5 -17 18.140625 -15.5 \r\nQ 19.78125 -14.015625 21.578125 -9.515625 \r\nz\r\n\" id=\"DejaVuSerif-121\"/>\r\n    </defs>\r\n    <g transform=\"translate(504.086932 16.318125)scale(0.12 -0.12)\">\r\n     <use xlink:href=\"#DejaVuSerif-81\"/>\r\n     <use x=\"81.982422\" xlink:href=\"#DejaVuSerif-117\"/>\r\n     <use x=\"146.386719\" xlink:href=\"#DejaVuSerif-97\"/>\r\n     <use x=\"206.005859\" xlink:href=\"#DejaVuSerif-110\"/>\r\n     <use x=\"270.410156\" xlink:href=\"#DejaVuSerif-116\"/>\r\n     <use x=\"310.595703\" xlink:href=\"#DejaVuSerif-105\"/>\r\n     <use x=\"342.578125\" xlink:href=\"#DejaVuSerif-116\"/>\r\n     <use x=\"382.763672\" xlink:href=\"#DejaVuSerif-121\"/>\r\n     <use x=\"439.257812\" xlink:href=\"#DejaVuSerif-32\"/>\r\n     <use x=\"471.044922\" xlink:href=\"#DejaVuSerif-111\"/>\r\n     <use x=\"531.25\" xlink:href=\"#DejaVuSerif-102\"/>\r\n     <use x=\"568.261719\" xlink:href=\"#DejaVuSerif-32\"/>\r\n     <use x=\"600.048828\" xlink:href=\"#DejaVuSerif-109\"/>\r\n     <use x=\"694.873047\" xlink:href=\"#DejaVuSerif-111\"/>\r\n     <use x=\"755.078125\" xlink:href=\"#DejaVuSerif-116\"/>\r\n     <use x=\"795.263672\" xlink:href=\"#DejaVuSerif-105\"/>\r\n     <use x=\"827.246094\" xlink:href=\"#DejaVuSerif-111\"/>\r\n     <use x=\"887.451172\" xlink:href=\"#DejaVuSerif-110\"/>\r\n    </g>\r\n   </g>\r\n  </g>\r\n </g>\r\n <defs>\r\n  <clipPath id=\"p369ba9e88b\">\r\n   <rect height=\"326.16\" width=\"304.363636\" x=\"43.78125\" y=\"22.318125\"/>\r\n  </clipPath>\r\n  <clipPath id=\"p83c7946b16\">\r\n   <rect height=\"326.16\" width=\"304.363636\" x=\"409.017614\" y=\"22.318125\"/>\r\n  </clipPath>\r\n </defs>\r\n</svg>\r\n",
      "text/plain": "<Figure size 864x432 with 2 Axes>"
     },
     "metadata": {
      "needs_background": "light"
     },
     "output_type": "display_data"
    }
   ],
   "source": [
    "yo.motion()"
   ]
  },
  {
   "cell_type": "markdown",
   "execution_count": null,
   "metadata": {},
   "outputs": [],
   "source": [
    "Show the motion video:"
   ]
  },
  {
   "cell_type": "code",
   "execution_count": 7,
   "metadata": {},
   "outputs": [],
   "source": [
    "yo.show(video=\"motion\")"
   ]
  },
  {
   "cell_type": "markdown",
   "metadata": {},
   "outputs": [],
   "source": [
    "Render the history video:"
   ]
  },
  {
   "cell_type": "code",
   "execution_count": 8,
   "metadata": {},
   "outputs": [
    {
     "name": "stdout",
     "output_type": "stream",
     "text": "Rendering history video: |████████████████████████████████████████| 100.0% Complete\n"
    }
   ],
   "source": [
    "yo.history()"
   ]
  },
  {
   "cell_type": "markdown",
   "execution_count": null,
   "metadata": {},
   "outputs": [],
   "source": [
    "Show the history video:"
   ]
  },
  {
   "cell_type": "code",
   "execution_count": 9,
   "metadata": {},
   "outputs": [],
   "source": [
    "yo.show(video='history')"
   ]
  },
  {
   "cell_type": "markdown",
   "metadata": {},
   "outputs": [],
   "source": [
    "Render the history of the motion:"
   ]
  },
  {
   "cell_type": "code",
   "execution_count": 11,
   "metadata": {},
   "outputs": [
    {
     "name": "stdout",
     "output_type": "stream",
     "text": "Rendering motion history video: |████████████████████████████████████████| 100.0% Complete\n"
    }
   ],
   "source": [
    "yo.motionhistory()"
   ]
  },
  {
   "cell_type": "markdown",
   "execution_count": null,
   "metadata": {},
   "outputs": [],
   "source": [
    "Show the motion history:"
   ]
  },
  {
   "cell_type": "code",
   "execution_count": 12,
   "metadata": {},
   "outputs": [],
   "source": [
    "yo.show(video='motionhistory')"
   ]
  },
  {
   "cell_type": "markdown",
   "metadata": {},
   "outputs": [],
   "source": [
    "Render the average image:"
   ]
  },
  {
   "cell_type": "code",
   "execution_count": 13,
   "metadata": {},
   "outputs": [
    {
     "name": "stdout",
     "output_type": "stream",
     "text": "Rendering average image: |████████████████████████████████████████| 100.0% Complete\n"
    }
   ],
   "source": [
    "yo.average()"
   ]
  },
  {
   "cell_type": "markdown",
   "metadata": {},
   "outputs": [],
   "source": [
    "### Skipping\n",
    "In order to save time, skipping every other frame, or more, in the analysis can give you a faster analysis while still getting an idea of the motion. You can for example set this by adding \"skip = 2\", to skip two frames before including a frame in the analysis, then skipping two again. "
   ]
  },
  {
   "cell_type": "markdown",
   "metadata": {},
   "outputs": [],
   "source": [
    "### Filtering\n",
    "\n",
    "If you think there is too much noise in the output images or video, you may choose to use some other filter settings. \n",
    "\n",
    "Filtertypes availible are: \n",
    "’Regular’, turns all values below thresh to 0.\n",
    "’Binary’ turns all values below thresh to 0, above thres to 1.\n",
    "’Blob’ removes individual pixels with erosion method.\n",
    "\n",
    "\n",
    "Try this:"
   ]
  },
  {
   "cell_type": "code",
   "metadata": {},
   "outputs": [],
   "source": [
    "mg = mgmodule.MgObject('dance.avi', skip = 5, filtertype = 'Blob')\n",
    "mg.motionvideo()"
   ]
  },
  {
   "cell_type": "code",
   "metadata": {
    "collapsed": true
   },
   "outputs": [],
   "source": [
    "ls"
   ]
  },
  {
   "cell_type": "code",
   "metadata": {},
   "outputs": [],
   "source": [
    "mg.show('dance_skip_motion.avi')"
   ]
  },
  {
   "cell_type": "markdown",
   "metadata": {},
   "outputs": [],
   "source": [
    "### Cropping\n",
    "\n",
    "If the video frame has big areas with no motion occuring, a lot of time could be saved if only the area with motion was used in the analysis. One useful tool developed for the pre-analysis is the crop = 'auto' input, which automatically finds the area with significant motion in the input video. The movement occuring has to be above a low threshold, as to not include irrelevant background motion from shadows, dust etc. Another mode is crop = 'manual', where you can manually mark a rectangle around your area of interest."
   ]
  },
  {
   "cell_type": "code",
   "metadata": {},
   "outputs": [],
   "source": [
    "mg = mgmodule.MgObject('dance.avi', skip = 5, filtertype = 'Blob', crop = 'auto')\n",
    "mg.motionvideo()"
   ]
  },
  {
   "cell_type": "code",
   "metadata": {
    "collapsed": true
   },
   "outputs": [],
   "source": [
    "ls"
   ]
  },
  {
   "cell_type": "code",
   "metadata": {},
   "outputs": [],
   "source": [
    "mg.show('dance_skip_crop_motion.avi')"
   ]
  },
  {
   "cell_type": "code",
   "metadata": {},
   "outputs": [],
   "source": [
    "mg = mgmodule.MgObject('dance.avi')\n",
    "mg.motionhistory()"
   ]
  },
  {
   "cell_type": "code",
   "metadata": {},
   "outputs": [],
   "source": [
    "mg = mgmodule.MgObject('dance.avi')\n",
    "mg.average_image()\n",
    "from IPython.display import Image\n",
    "avg = Image(\"dance_average.png\")\n",
    "avg"
   ]
  },
  {
   "cell_type": "code",
   "metadata": {},
   "outputs": [],
   "source": []
  }
 ],
 "metadata": {
  "kernelspec": {
   "display_name": "Python 3",
   "language": "python",
   "name": "python3"
  },
  "language_info": {
   "codemirror_mode": {
    "name": "ipython",
    "version": 3
   },
   "file_extension": ".py",
   "mimetype": "text/x-python",
   "name": "python",
   "nbconvert_exporter": "python",
   "pygments_lexer": "ipython3",
   "version": "3.7.2"
  }
 },
 "nbformat": 4,
 "nbformat_minor": 2
}