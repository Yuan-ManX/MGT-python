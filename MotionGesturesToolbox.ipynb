{
 "cells": [
  {
   "cell_type": "markdown",
   "metadata": {},
   "outputs": [],
   "source": [
    "# Welcome to the Motion Gestures Toolbox (Python) - Tutorial/Documentation"
   ]
  },
  {
   "cell_type": "markdown",
   "metadata": {},
   "outputs": [],
   "source": [
    "## Video visualisation\n",
    "Videos can be watched as they are, but they can also be used to develop new visualisations to be used for analysis. The aim of creating such alternate displays from video recordings is to uncover features, structures and similarities within the material itself, and in relation to, for example, score material. Three useful visualisation techniques here are motion images, motion history images and motiongrams.\n",
    "\n",
    "MGT can generate both dynamic and static visualizations, as well as some quantitative data:\n",
    "\n",
    "- dynamic visualisations (video files)\n",
    "    - motion video\n",
    "    - motion history video\n",
    "- static visualisations (images)\n",
    "    - motion average image\n",
    "    - motiongrams\n",
    "    - videograms\n",
    "- motion data (csv files)\n",
    "    - quantity of motion\n",
    "    - centroid of motion\n",
    "    - area of motion\n",
    "\n",
    "In the following we will try this ourselves, and look at the different types."
   ]
  },
  {
   "cell_type": "markdown",
   "metadata": {},
   "outputs": [],
   "source": [
    "## Dependencies\n",
    "\n",
    "To make sure you have all the necessary dependencies, evaluate the following line in the terminal:\n",
    "\n",
    "<code>pip3 install numpy matplotlib opencv-python moviepy ffmpeg ffmpeg-python scipy</code>\n"
   ]
  },
  {
   "cell_type": "markdown",
   "metadata": {},
   "outputs": [],
   "source": [
    "## Import\n",
    "\n",
    "If you have all the dependencies installed, go ahead and import the <code>mgmodule</code>."
   ]
  },
  {
   "cell_type": "code",
   "metadata": {},
   "outputs": [],
   "source": [
    "import mgmodule"
   ]
  },
  {
   "cell_type": "markdown",
   "metadata": {},
   "outputs": [],
   "source": [
    "## The MgObject\n",
    "\n",
    "### Simple video import\n",
    "\n",
    "Now we create our mg (motion gestures) object. You can simply read a video file this way:"
   ]
  },
  {
   "cell_type": "code",
   "metadata": {},
   "outputs": [],
   "source": [
    "mg = mgmodule.MgObject('dance.avi')"
   ]
  },
  {
   "cell_type": "markdown",
   "metadata": {},
   "outputs": [],
   "source": [
    "You can watch your video with calling the show() method:"
   ]
  },
  {
   "cell_type": "code",
   "metadata": {},
   "outputs": [],
   "source": [
    "mg.show() # press q to quit video"
   ]
  },
  {
   "cell_type": "markdown",
   "metadata": {},
   "outputs": [],
   "source": [
    "## Preprocessing modules\n",
    "### Trimming\n",
    "When creating the object you can also already apply some preprocessing. For example you can trim the duration of the video like this:"
   ]
  },
  {
   "cell_type": "code",
   "metadata": {},
   "outputs": [],
   "source": [
    "# the numbers used for starttime and endtime represent time from the video's timeline in seconds\n",
    "mg = mgmodule.MgObject('dance.avi', starttime = 5, endtime = 15)\n",
    "mg.show() # view the result, press q to quit video"
   ]
  },
  {
   "cell_type": "markdown",
   "metadata": {},
   "outputs": [],
   "source": [
    "This will create the file *dance_trim.avi* in the same directory."
   ]
  },
  {
   "cell_type": "markdown",
   "metadata": {},
   "outputs": [],
   "source": [
    "### Skipping\n",
    "In order to save time, skipping every other frame, or more, in the analysis can give you a faster analysis while still getting an idea of the motion. You can for example set this by adding `skip=2`, to skip two frames before including a frame in the analysis, then skipping two again. "
   ]
  },
  {
   "cell_type": "code",
   "metadata": {},
   "outputs": [],
   "source": [
    "mg = mgmodule.MgObject('dance.avi', starttime = 5, endtime = 15, skip=2)\n",
    "mg.show()"
   ]
  },
  {
   "cell_type": "markdown",
   "metadata": {},
   "outputs": [],
   "source": [
    "This will create the file *dance_trim_skip.avi* in the same directory. Notice how the added suffixes at the end of the file's name can inform you about the processes the material went through. "
   ]
  },
  {
   "cell_type": "markdown",
   "metadata": {},
   "outputs": [],
   "source": [
    "### It's a chain\n",
    "It is also worth to note that the preprocessing modules work as a chain (- more on that below). In this case that means we first load the video file, then trim its start to 5s and its end to 15s. Then we take the resulting *dance_trim.avi* and discard 2 out of every 3 frames. (Keeping the 1st, skipping 2nd and 3rd, keeping the 4th, skipping 5th and 6th, and so on...) The resulting file of this process is *dance_trim_skip.avi*."
   ]
  },
  {
   "cell_type": "markdown",
   "metadata": {},
   "outputs": [],
   "source": [
    "### Adjusting contrast and brightness\n",
    "During preprocessing you can also add (or remove) some contrast and brightness of your video.\n",
    "\n",
    "Let's crank up the contrast and brighten up our *dance.avi*!"
   ]
  },
  {
   "cell_type": "code",
   "metadata": {},
   "outputs": [],
   "source": [
    "mg = mgmodule.MgObject('dance.avi', starttime = 5, endtime = 15, skip=3, contrast=100, brightness=20)\n",
    "mg.show()"
   ]
  },
  {
   "cell_type": "markdown",
   "metadata": {},
   "outputs": [],
   "source": [
    "Again, the resulting filename *dance_trim_skip_cb.avi* will inform us about the chain of processes *dance.avi* went through."
   ]
  },
  {
   "cell_type": "markdown",
   "metadata": {},
   "outputs": [],
   "source": [
    "### Cropping\n",
    "\n",
    "If the video frame has big areas with no motion occuring, a lot of time could be saved if only the area with motion was used in the analysis. One useful tool developed for the pre-analysis is the crop = 'auto' input, which automatically finds the area with significant motion in the input video. The movement occuring has to be above a low threshold, as to not include irrelevant background motion from shadows, dust etc. Another mode is crop = 'manual', where you can manually mark a rectangle around your area of interest."
   ]
  },
  {
   "cell_type": "markdown",
   "metadata": {},
   "outputs": [],
   "source": [
    "#### Automatic cropping"
   ]
  },
  {
   "cell_type": "code",
   "metadata": {},
   "outputs": [],
   "source": [
    "mg = mgmodule.MgObject('dance.avi', starttime = 5, endtime = 15, skip=3, contrast=100, brightness=20, crop='auto')\n",
    "mg.show()"
   ]
  },
  {
   "cell_type": "markdown",
   "metadata": {},
   "outputs": [],
   "source": [
    "#### Manual cropping"
   ]
  },
  {
   "cell_type": "code",
   "metadata": {},
   "outputs": [],
   "source": [
    "mg = mgmodule.MgObject('dance.avi', starttime = 5, endtime = 15, skip=3, contrast=100, brightness=20, crop='manual')\n",
    "mg.show()"
   ]
  },
  {
   "cell_type": "markdown",
   "metadata": {},
   "outputs": [],
   "source": [
    "The resulting file is now called *dance_trim_skip_cb_crop.avi*."
   ]
  },
  {
   "cell_type": "markdown",
   "metadata": {},
   "outputs": [],
   "source": [
    "### Summary of preprocessing modules\n",
    "As we have seen, we can optionally apply four types of preprocessing to the video we load into our MgObject, they are (in order of execution):\n",
    "\n",
    "- trim: Trim contents of the video based on `starttime` and `endtime`.\n",
    "- skip: Skip every n frames, where n is determined by `skip`.\n",
    "- cb: Adjust contrast and brightness of the video, where `contrast` and `brightness` are the level of adjustment in percentages (meaning `contrast=0` will not apply any change). both values range from `-100` to `100`.\n",
    "crop: Crop frames in video. If `crop='auto'` the module will attempt to find the area of motion, if `crop='manual'` we can draw the cropping rectangle over the first frame.\n"
   ]
  },
  {
   "cell_type": "markdown",
   "metadata": {},
   "outputs": [],
   "source": [
    "### Keep everything\n",
    "Notice that although we can optionally apply up to four preprocessing modules to our source video, normally we only keep the final result. If you would like to keep the results of all modules, set `keep_all=True`."
   ]
  },
  {
   "cell_type": "code",
   "metadata": {},
   "outputs": [],
   "source": [
    "mg = mgmodule.MgObject('dance.avi', starttime = 5, endtime = 15, skip=3, contrast=100, brightness=20, crop='auto', keep_all=True)"
   ]
  },
  {
   "cell_type": "markdown",
   "metadata": {},
   "outputs": [],
   "source": [
    "This will output video files:\n",
    "- *dance_trim.avi*\n",
    "- *dance_trim_skip.avi*\n",
    "- *dance_trim_skip_cb.avi*\n",
    "- *dance_trim_skip_cb_crop.avi*"
   ]
  },
  {
   "cell_type": "markdown",
   "metadata": {},
   "outputs": [],
   "source": [
    "## Processes\n",
    "\n",
    "In the following we will take a look at several functions to further process our videos. These include:\n",
    "- `motion()`: The most frequently used function, generates a *_motion* video, horizontal and vertical motiongrams, and plots about the centroid and quantity of motion found in the video.\n",
    "- `history()`: Generates a *_history* video by layering the last n frames on the current frame for each frame in the video.\n",
    "- `motionhistory()`: Generates a *_motionhistory* video, which is equivalent to calling `history()` on a *_motion* video.\n",
    "- `average()`: Generates an *_average* image of all frames in the video. "
   ]
  },
  {
   "cell_type": "markdown",
   "metadata": {},
   "outputs": [],
   "source": [
    "### Motion analysis\n",
    "\n",
    "By calling the `motion()` function, we will generate a number of files from the input video, in the same location as the source file.\n",
    "\n",
    "These include:\n",
    "- *<input_filename>_motion.avi*: The motion video that is used as the source for the rest of the analysis.\n",
    "- *<input_filename>_mgx.png*: A horizontal motiongram.\n",
    "- *<input_filename>_mgy.png*: A vertical motiongram.\n",
    "- *<input_filename>_motion_com_qom.png*: An image file with plots of centroid and quantity of motion\n",
    "\n",
    "We will examine each of these in a little more detail."
   ]
  },
  {
   "cell_type": "code",
   "metadata": {},
   "outputs": [],
   "source": [
    "import mgmodule\n",
    "mg = mgmodule.MgObject('dance.avi', starttime = 5, endtime = 15, skip=1, contrast=100, brightness=20, crop='auto')\n",
    "mg.motion()"
   ]
  },
  {
   "cell_type": "code",
   "metadata": {},
   "outputs": [],
   "source": [
    "ls # take a look at the output files"
   ]
  },
  {
   "cell_type": "markdown",
   "metadata": {},
   "outputs": [],
   "source": [
    "We can now look at the results with using the `key` parameter of `show()`."
   ]
  },
  {
   "cell_type": "code",
   "metadata": {},
   "outputs": [],
   "source": [
    "mg.show(key='motion') # show the motion video of the preprocessed input, in this case 'dance_trim_skip_cb_crop_motion.avi'"
   ]
  },
  {
   "cell_type": "code",
   "metadata": {},
   "outputs": [],
   "source": [
    "mg.show(key='mgx') # show the horizontal motiongram, here 'dance_trim_skip_cb_crop_mgx.png'"
   ]
  },
  {
   "cell_type": "code",
   "metadata": {},
   "outputs": [],
   "source": [
    "mg.show(key='mgy') # show the vertical motiongram"
   ]
  },
  {
   "cell_type": "code",
   "metadata": {},
   "outputs": [],
   "source": [
    "mg.show(key='plot') # show the image of the two plots ('Centroid of motion' and 'Quantity of motion') also shown at the end of motion()"
   ]
  },
  {
   "cell_type": "markdown",
   "metadata": {},
   "outputs": [],
   "source": [
    "Alternatively we can display the images right here in our notebook:"
   ]
  },
  {
   "cell_type": "code",
   "metadata": {},
   "outputs": [],
   "source": [
    "from IPython.display import Image\n",
    "x = Image('dance_trim_skip_cb_crop_mgx.png')\n",
    "x\n"
   ]
  },
  {
   "cell_type": "code",
   "metadata": {},
   "outputs": [],
   "source": [
    "y = Image('dance_trim_skip_cb_crop_mgy.png')\n",
    "y"
   ]
  },
  {
   "cell_type": "code",
   "metadata": {},
   "outputs": [],
   "source": [
    "com_qom = Image('dance_trim_skip_cb_crop_motion_com_qom.png')\n",
    "com_qom"
   ]
  },
  {
   "cell_type": "markdown",
   "metadata": {},
   "outputs": [],
   "source": [
    "#### Filtering\n",
    "\n",
    "If you think there is too much noise in the output images or video, you may choose to use some other filter settings. \n",
    "\n",
    "Filtertypes availible are: \n",
    "- `Regular` turns all values below thresh to 0.\n",
    "- `Binary` turns all values below thresh to 0, above thres to 1.\n",
    "- `Blob` removes individual pixels with erosion method.\n",
    "\n",
    "\n",
    "Try this:"
   ]
  },
  {
   "cell_type": "code",
   "metadata": {},
   "outputs": [],
   "source": [
    "mg.motion(filtertype='Blob')\n",
    "mg.show(key='motion')"
   ]
  },
  {
   "cell_type": "markdown",
   "metadata": {},
   "outputs": [],
   "source": [
    "### History tracking\n",
    "Motion history tracking can be interesting, to study movement as a whole process. This is implemented as a history delay, storing the motion history of a given number of past frames into the current frame. `history_length` determines the number of frames saved to the history tail.\n",
    "\n",
    "Try this:"
   ]
  },
  {
   "cell_type": "code",
   "metadata": {},
   "outputs": [],
   "source": [
    "mg.history()\n",
    "mg.show(key='history')"
   ]
  },
  {
   "cell_type": "markdown",
   "metadata": {},
   "outputs": [],
   "source": [
    "By default `history_length=10`. Let's increase it to 20!"
   ]
  },
  {
   "cell_type": "code",
   "metadata": {},
   "outputs": [],
   "source": [
    "mg.history(history_length=20)\n",
    "mg.show(key='history')"
   ]
  },
  {
   "cell_type": "markdown",
   "metadata": {},
   "outputs": [],
   "source": [
    "TODO:\n",
    "- motionhistory()\n",
    "- average()"
   ]
  }
 ],
 "metadata": {
  "kernelspec": {
   "display_name": "Python 3",
   "language": "python",
   "name": "python3"
  },
  "language_info": {
   "codemirror_mode": {
    "name": "ipython",
    "version": 3
   },
   "file_extension": ".py",
   "mimetype": "text/x-python",
   "name": "python",
   "nbconvert_exporter": "python",
   "pygments_lexer": "ipython3",
   "version": "3.7.2"
  }
 },
 "nbformat": 4,
 "nbformat_minor": 2
}