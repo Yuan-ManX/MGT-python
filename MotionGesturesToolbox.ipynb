{
 "cells": [
  {
   "cell_type": "markdown",
   "metadata": {},
   "outputs": [],
   "source": [
    "# Welcome to the Motion Gestures Toolbox (Python) - Tutorial/Documentation"
   ]
  },
  {
   "cell_type": "markdown",
   "metadata": {},
   "outputs": [],
   "source": [
    "### Video visualisation\n",
    "Videos can be watched as they are, but they can also be used to develop new visualisations to be used for analysis. The aim of creating such alternate displays from video recordings is to uncover features, structures and similarities within the material itself, and in relation to, for example, score material. Three useful visualisation techniques here are motion images, motion history images and motiongrams.\n",
    "\n",
    "MGT can generate both dynamic and static visualizations, as well as some quantitative data:\n",
    "\n",
    "- dynamic visualisations (video files)\n",
    "    - motion video\n",
    "    - motion history video\n",
    "- static visualisations (images)\n",
    "    - motion average image\n",
    "    - motiongrams\n",
    "    - videograms\n",
    "- motion data (csv files)\n",
    "    - quantity of motion\n",
    "    - centroid of motion\n",
    "    - area of motion\n",
    "\n",
    "In the following we will try this ourselves, and look at the different types."
   ]
  },
  {
   "cell_type": "markdown",
   "metadata": {},
   "outputs": [],
   "source": [
    "#### Starting off we will do a few imports, and the tutorial depends on these modules being installed/downloaded."
   ]
  },
  {
   "cell_type": "code",
   "metadata": {},
   "outputs": [],
   "source": [
    "import mgmodule\n",
    "import cv2\n",
    "from matplotlib import pyplot as plt"
   ]
  },
  {
   "cell_type": "markdown",
   "metadata": {},
   "outputs": [],
   "source": [
    "Now we create our mg (motion gestures) object, which takes the video and gives the video attributes and functions that can be used upon it to extract useful/fun videos, images and information. To save time, starttime and endtime of video relevant to analysis can be chosen as so: this will trim the piece of video of interest."
   ]
  },
  {
   "cell_type": "code",
   "metadata": {},
   "outputs": [],
   "source": [
    "mg = mgmodule.MgObject('dance.avi', starttime = 5, endtime = 15)"
   ]
  },
  {
   "cell_type": "markdown",
   "metadata": {},
   "outputs": [],
   "source": [
    "### Motion video analysis\n",
    "\n",
    "By calling the motionvideo function, we will generate a number of files from the input video, in the same location as the source file.\n",
    "\n",
    "These include:\n",
    "- dance_motion.avi: the motion video that is used as the source for the rest of the analysis\n",
    "- dance_mgx.bmp: a horizontal motiongram\n",
    "- dance_mgy.bmp: a vertical motiongram\n",
    "- dance_motion_com_qom.eps: an image file with plots of centroid and quantity of motion\n",
    "\n",
    "We will examine each of these in a little more detail."
   ]
  },
  {
   "cell_type": "code",
   "metadata": {},
   "outputs": [],
   "source": [
    "mg.motionvideo()"
   ]
  },
  {
   "cell_type": "code",
   "metadata": {},
   "outputs": [],
   "source": [
    "ls"
   ]
  },
  {
   "cell_type": "code",
   "metadata": {},
   "outputs": [],
   "source": [
    "from IPython.display import Image\n",
    "x = Image(\"dance_trim_mgx.png\")\n",
    "x\n"
   ]
  },
  {
   "cell_type": "code",
   "metadata": {},
   "outputs": [],
   "source": [
    "y = Image(\"dance_trim_mgy.png\")\n",
    "y"
   ]
  },
  {
   "cell_type": "code",
   "metadata": {},
   "outputs": [],
   "source": [
    "com_qom = Image(\"dance_trim_motion_com_qom.png\")\n",
    "com_qom"
   ]
  },
  {
   "cell_type": "code",
   "metadata": {},
   "outputs": [],
   "source": [
    "#Press q to quit the video\n",
    "mg.show('dance_trim_motion.avi')"
   ]
  },
  {
   "cell_type": "markdown",
   "metadata": {},
   "outputs": [],
   "source": [
    "### History tracking\n",
    "Motion history tracking can be interesting, to study movement as a whole process. This is implemented as a history delay, storing the motion history of a given number of past frames into the current frame. history_length = integer of your choice, which will be the number of frames saved to the history tail.\n",
    "\n",
    "When calling the function history(filename, history_length=20), a tail of 20 frames is saved to the current frame."
   ]
  },
  {
   "cell_type": "code",
   "metadata": {},
   "outputs": [],
   "source": []
  },
  {
   "cell_type": "code",
   "metadata": {},
   "outputs": [],
   "source": [
    "#mg = mgmodule.MgObject('dance.avi')\n",
    "mg = mgmodule.MgObject('dance.avi', starttime = 5, endtime = 15, skip=5)\n",
    "mg.history('dance_trim_skip.avi', history_length = 20)\n",
    "mg.show('dance_trim_skip_history.avi')"
   ]
  },
  {
   "cell_type": "code",
   "metadata": {},
   "outputs": [],
   "source": [
    "mg = mgmodule.MgObject('dance.avi', starttime = 5, endtime = 15, skip=5)\n",
    "mg.motionvideo()"
   ]
  },
  {
   "cell_type": "markdown",
   "metadata": {},
   "outputs": [],
   "source": [
    "### Skipping\n",
    "In order to save time, skipping every other frame, or more, in the analysis can give you a faster analysis while still getting an idea of the motion. You can for example set this by adding \"skip = 2\", to skip two frames before including a frame in the analysis, then skipping two again. "
   ]
  },
  {
   "cell_type": "markdown",
   "metadata": {},
   "outputs": [],
   "source": [
    "### Filtering\n",
    "\n",
    "If you think there is too much noise in the output images or video, you may choose to use some other filter settings. \n",
    "\n",
    "Filtertypes availible are: \n",
    "’Regular’, turns all values below thresh to 0.\n",
    "’Binary’ turns all values below thresh to 0, above thres to 1.\n",
    "’Blob’ removes individual pixels with erosion method.\n",
    "\n",
    "\n",
    "Try this:"
   ]
  },
  {
   "cell_type": "code",
   "metadata": {},
   "outputs": [],
   "source": [
    "mg = mgmodule.MgObject('dance.avi', skip = 5, filtertype = 'Blob')\n",
    "mg.motionvideo()"
   ]
  },
  {
   "cell_type": "code",
   "metadata": {
    "collapsed": true
   },
   "outputs": [],
   "source": [
    "ls"
   ]
  },
  {
   "cell_type": "code",
   "metadata": {},
   "outputs": [],
   "source": [
    "mg.show('dance_skip_motion.avi')"
   ]
  },
  {
   "cell_type": "markdown",
   "metadata": {},
   "outputs": [],
   "source": [
    "### Cropping\n",
    "\n",
    "If the video frame has big areas with no motion occuring, a lot of time could be saved if only the area with motion was used in the analysis. One useful tool developed for the pre-analysis is the crop = 'auto' input, which automatically finds the area with significant motion in the input video. The movement occuring has to be above a low threshold, as to not include irrelevant background motion from shadows, dust etc. Another mode is crop = 'manual', where you can manually mark a rectangle around your area of interest."
   ]
  },
  {
   "cell_type": "code",
   "metadata": {},
   "outputs": [],
   "source": [
    "mg = mgmodule.MgObject('dance.avi', skip = 5, filtertype = 'Blob', crop = 'auto')\n",
    "mg.motionvideo()"
   ]
  },
  {
   "cell_type": "code",
   "metadata": {
    "collapsed": true
   },
   "outputs": [],
   "source": [
    "ls"
   ]
  },
  {
   "cell_type": "code",
   "metadata": {},
   "outputs": [],
   "source": [
    "mg.show('dance_skip_crop_motion.avi')"
   ]
  },
  {
   "cell_type": "code",
   "metadata": {},
   "outputs": [],
   "source": [
    "mg = mgmodule.MgObject('dance.avi')\n",
    "mg.motionhistory()"
   ]
  },
  {
   "cell_type": "code",
   "metadata": {},
   "outputs": [],
   "source": [
    "mg = mgmodule.MgObject('dance.avi')\n",
    "mg.average_image()\n",
    "from IPython.display import Image\n",
    "avg = Image(\"dance_average.png\")\n",
    "avg"
   ]
  },
  {
   "cell_type": "code",
   "metadata": {},
   "outputs": [],
   "source": []
  }
 ],
 "metadata": {
  "kernelspec": {
   "display_name": "Python 3",
   "language": "python",
   "name": "python3"
  },
  "language_info": {
   "codemirror_mode": {
    "name": "ipython",
    "version": 3
   },
   "file_extension": ".py",
   "mimetype": "text/x-python",
   "name": "python",
   "nbconvert_exporter": "python",
   "pygments_lexer": "ipython3",
   "version": "3.7.2"
  }
 },
 "nbformat": 4,
 "nbformat_minor": 2
}